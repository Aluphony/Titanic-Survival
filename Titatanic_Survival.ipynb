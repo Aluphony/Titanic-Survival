{
  "nbformat": 4,
  "nbformat_minor": 0,
  "metadata": {
    "colab": {
      "provenance": [],
      "toc_visible": true,
      "authorship_tag": "ABX9TyMbIt/MgOaO2soLsUDM9RCH",
      "include_colab_link": true
    },
    "kernelspec": {
      "name": "python3",
      "display_name": "Python 3"
    },
    "language_info": {
      "name": "python"
    }
  },
  "cells": [
    {
      "cell_type": "markdown",
      "metadata": {
        "id": "view-in-github",
        "colab_type": "text"
      },
      "source": [
        "<a href=\"https://colab.research.google.com/github/Aluphony/Titanic-Survival/blob/main/Titatanic_Survival.ipynb\" target=\"_parent\"><img src=\"https://colab.research.google.com/assets/colab-badge.svg\" alt=\"Open In Colab\"/></a>"
      ]
    },
    {
      "cell_type": "code",
      "execution_count": 1,
      "metadata": {
        "id": "swKeEkGHDX7r"
      },
      "outputs": [],
      "source": [
        "import numpy as np\n",
        "import pandas as pd\n",
        "import matplotlib.pyplot as plt\n",
        "import seaborn as sns\n",
        "import warnings\n",
        "warnings.filterwarnings('ignore')\n",
        "from sklearn.model_selection import train_test_split\n",
        "from sklearn.linear_model import LogisticRegression\n",
        "from sklearn.metrics import accuracy_score, confusion_matrix, classification_report"
      ]
    },
    {
      "cell_type": "code",
      "source": [
        "titanic_data = pd.read_csv('Titanic-Dataset.csv')"
      ],
      "metadata": {
        "id": "yotjQzKeD13v"
      },
      "execution_count": 2,
      "outputs": []
    },
    {
      "cell_type": "code",
      "source": [
        "titanic_data.head()"
      ],
      "metadata": {
        "colab": {
          "base_uri": "https://localhost:8080/",
          "height": 258
        },
        "id": "Pgvx7OBhEOUG",
        "outputId": "bea61b07-a63f-4304-86ba-448e6f020c1a"
      },
      "execution_count": 3,
      "outputs": [
        {
          "output_type": "execute_result",
          "data": {
            "text/plain": [
              "   PassengerId  Survived  Pclass  \\\n",
              "0            1         0       3   \n",
              "1            2         1       1   \n",
              "2            3         1       3   \n",
              "3            4         1       1   \n",
              "4            5         0       3   \n",
              "\n",
              "                                                Name     Sex   Age  SibSp  \\\n",
              "0                            Braund, Mr. Owen Harris    male  22.0      1   \n",
              "1  Cumings, Mrs. John Bradley (Florence Briggs Th...  female  38.0      1   \n",
              "2                             Heikkinen, Miss. Laina  female  26.0      0   \n",
              "3       Futrelle, Mrs. Jacques Heath (Lily May Peel)  female  35.0      1   \n",
              "4                           Allen, Mr. William Henry    male  35.0      0   \n",
              "\n",
              "   Parch            Ticket     Fare Cabin Embarked  \n",
              "0      0         A/5 21171   7.2500   NaN        S  \n",
              "1      0          PC 17599  71.2833   C85        C  \n",
              "2      0  STON/O2. 3101282   7.9250   NaN        S  \n",
              "3      0            113803  53.1000  C123        S  \n",
              "4      0            373450   8.0500   NaN        S  "
            ],
            "text/html": [
              "\n",
              "  <div id=\"df-c5c66907-26a9-41c4-aecd-86e6711f4b2c\" class=\"colab-df-container\">\n",
              "    <div>\n",
              "<style scoped>\n",
              "    .dataframe tbody tr th:only-of-type {\n",
              "        vertical-align: middle;\n",
              "    }\n",
              "\n",
              "    .dataframe tbody tr th {\n",
              "        vertical-align: top;\n",
              "    }\n",
              "\n",
              "    .dataframe thead th {\n",
              "        text-align: right;\n",
              "    }\n",
              "</style>\n",
              "<table border=\"1\" class=\"dataframe\">\n",
              "  <thead>\n",
              "    <tr style=\"text-align: right;\">\n",
              "      <th></th>\n",
              "      <th>PassengerId</th>\n",
              "      <th>Survived</th>\n",
              "      <th>Pclass</th>\n",
              "      <th>Name</th>\n",
              "      <th>Sex</th>\n",
              "      <th>Age</th>\n",
              "      <th>SibSp</th>\n",
              "      <th>Parch</th>\n",
              "      <th>Ticket</th>\n",
              "      <th>Fare</th>\n",
              "      <th>Cabin</th>\n",
              "      <th>Embarked</th>\n",
              "    </tr>\n",
              "  </thead>\n",
              "  <tbody>\n",
              "    <tr>\n",
              "      <th>0</th>\n",
              "      <td>1</td>\n",
              "      <td>0</td>\n",
              "      <td>3</td>\n",
              "      <td>Braund, Mr. Owen Harris</td>\n",
              "      <td>male</td>\n",
              "      <td>22.0</td>\n",
              "      <td>1</td>\n",
              "      <td>0</td>\n",
              "      <td>A/5 21171</td>\n",
              "      <td>7.2500</td>\n",
              "      <td>NaN</td>\n",
              "      <td>S</td>\n",
              "    </tr>\n",
              "    <tr>\n",
              "      <th>1</th>\n",
              "      <td>2</td>\n",
              "      <td>1</td>\n",
              "      <td>1</td>\n",
              "      <td>Cumings, Mrs. John Bradley (Florence Briggs Th...</td>\n",
              "      <td>female</td>\n",
              "      <td>38.0</td>\n",
              "      <td>1</td>\n",
              "      <td>0</td>\n",
              "      <td>PC 17599</td>\n",
              "      <td>71.2833</td>\n",
              "      <td>C85</td>\n",
              "      <td>C</td>\n",
              "    </tr>\n",
              "    <tr>\n",
              "      <th>2</th>\n",
              "      <td>3</td>\n",
              "      <td>1</td>\n",
              "      <td>3</td>\n",
              "      <td>Heikkinen, Miss. Laina</td>\n",
              "      <td>female</td>\n",
              "      <td>26.0</td>\n",
              "      <td>0</td>\n",
              "      <td>0</td>\n",
              "      <td>STON/O2. 3101282</td>\n",
              "      <td>7.9250</td>\n",
              "      <td>NaN</td>\n",
              "      <td>S</td>\n",
              "    </tr>\n",
              "    <tr>\n",
              "      <th>3</th>\n",
              "      <td>4</td>\n",
              "      <td>1</td>\n",
              "      <td>1</td>\n",
              "      <td>Futrelle, Mrs. Jacques Heath (Lily May Peel)</td>\n",
              "      <td>female</td>\n",
              "      <td>35.0</td>\n",
              "      <td>1</td>\n",
              "      <td>0</td>\n",
              "      <td>113803</td>\n",
              "      <td>53.1000</td>\n",
              "      <td>C123</td>\n",
              "      <td>S</td>\n",
              "    </tr>\n",
              "    <tr>\n",
              "      <th>4</th>\n",
              "      <td>5</td>\n",
              "      <td>0</td>\n",
              "      <td>3</td>\n",
              "      <td>Allen, Mr. William Henry</td>\n",
              "      <td>male</td>\n",
              "      <td>35.0</td>\n",
              "      <td>0</td>\n",
              "      <td>0</td>\n",
              "      <td>373450</td>\n",
              "      <td>8.0500</td>\n",
              "      <td>NaN</td>\n",
              "      <td>S</td>\n",
              "    </tr>\n",
              "  </tbody>\n",
              "</table>\n",
              "</div>\n",
              "    <div class=\"colab-df-buttons\">\n",
              "\n",
              "  <div class=\"colab-df-container\">\n",
              "    <button class=\"colab-df-convert\" onclick=\"convertToInteractive('df-c5c66907-26a9-41c4-aecd-86e6711f4b2c')\"\n",
              "            title=\"Convert this dataframe to an interactive table.\"\n",
              "            style=\"display:none;\">\n",
              "\n",
              "  <svg xmlns=\"http://www.w3.org/2000/svg\" height=\"24px\" viewBox=\"0 -960 960 960\">\n",
              "    <path d=\"M120-120v-720h720v720H120Zm60-500h600v-160H180v160Zm220 220h160v-160H400v160Zm0 220h160v-160H400v160ZM180-400h160v-160H180v160Zm440 0h160v-160H620v160ZM180-180h160v-160H180v160Zm440 0h160v-160H620v160Z\"/>\n",
              "  </svg>\n",
              "    </button>\n",
              "\n",
              "  <style>\n",
              "    .colab-df-container {\n",
              "      display:flex;\n",
              "      gap: 12px;\n",
              "    }\n",
              "\n",
              "    .colab-df-convert {\n",
              "      background-color: #E8F0FE;\n",
              "      border: none;\n",
              "      border-radius: 50%;\n",
              "      cursor: pointer;\n",
              "      display: none;\n",
              "      fill: #1967D2;\n",
              "      height: 32px;\n",
              "      padding: 0 0 0 0;\n",
              "      width: 32px;\n",
              "    }\n",
              "\n",
              "    .colab-df-convert:hover {\n",
              "      background-color: #E2EBFA;\n",
              "      box-shadow: 0px 1px 2px rgba(60, 64, 67, 0.3), 0px 1px 3px 1px rgba(60, 64, 67, 0.15);\n",
              "      fill: #174EA6;\n",
              "    }\n",
              "\n",
              "    .colab-df-buttons div {\n",
              "      margin-bottom: 4px;\n",
              "    }\n",
              "\n",
              "    [theme=dark] .colab-df-convert {\n",
              "      background-color: #3B4455;\n",
              "      fill: #D2E3FC;\n",
              "    }\n",
              "\n",
              "    [theme=dark] .colab-df-convert:hover {\n",
              "      background-color: #434B5C;\n",
              "      box-shadow: 0px 1px 3px 1px rgba(0, 0, 0, 0.15);\n",
              "      filter: drop-shadow(0px 1px 2px rgba(0, 0, 0, 0.3));\n",
              "      fill: #FFFFFF;\n",
              "    }\n",
              "  </style>\n",
              "\n",
              "    <script>\n",
              "      const buttonEl =\n",
              "        document.querySelector('#df-c5c66907-26a9-41c4-aecd-86e6711f4b2c button.colab-df-convert');\n",
              "      buttonEl.style.display =\n",
              "        google.colab.kernel.accessAllowed ? 'block' : 'none';\n",
              "\n",
              "      async function convertToInteractive(key) {\n",
              "        const element = document.querySelector('#df-c5c66907-26a9-41c4-aecd-86e6711f4b2c');\n",
              "        const dataTable =\n",
              "          await google.colab.kernel.invokeFunction('convertToInteractive',\n",
              "                                                    [key], {});\n",
              "        if (!dataTable) return;\n",
              "\n",
              "        const docLinkHtml = 'Like what you see? Visit the ' +\n",
              "          '<a target=\"_blank\" href=https://colab.research.google.com/notebooks/data_table.ipynb>data table notebook</a>'\n",
              "          + ' to learn more about interactive tables.';\n",
              "        element.innerHTML = '';\n",
              "        dataTable['output_type'] = 'display_data';\n",
              "        await google.colab.output.renderOutput(dataTable, element);\n",
              "        const docLink = document.createElement('div');\n",
              "        docLink.innerHTML = docLinkHtml;\n",
              "        element.appendChild(docLink);\n",
              "      }\n",
              "    </script>\n",
              "  </div>\n",
              "\n",
              "\n",
              "<div id=\"df-f02ceeb1-e73a-4c50-b252-462b50b94a39\">\n",
              "  <button class=\"colab-df-quickchart\" onclick=\"quickchart('df-f02ceeb1-e73a-4c50-b252-462b50b94a39')\"\n",
              "            title=\"Suggest charts\"\n",
              "            style=\"display:none;\">\n",
              "\n",
              "<svg xmlns=\"http://www.w3.org/2000/svg\" height=\"24px\"viewBox=\"0 0 24 24\"\n",
              "     width=\"24px\">\n",
              "    <g>\n",
              "        <path d=\"M19 3H5c-1.1 0-2 .9-2 2v14c0 1.1.9 2 2 2h14c1.1 0 2-.9 2-2V5c0-1.1-.9-2-2-2zM9 17H7v-7h2v7zm4 0h-2V7h2v10zm4 0h-2v-4h2v4z\"/>\n",
              "    </g>\n",
              "</svg>\n",
              "  </button>\n",
              "\n",
              "<style>\n",
              "  .colab-df-quickchart {\n",
              "      --bg-color: #E8F0FE;\n",
              "      --fill-color: #1967D2;\n",
              "      --hover-bg-color: #E2EBFA;\n",
              "      --hover-fill-color: #174EA6;\n",
              "      --disabled-fill-color: #AAA;\n",
              "      --disabled-bg-color: #DDD;\n",
              "  }\n",
              "\n",
              "  [theme=dark] .colab-df-quickchart {\n",
              "      --bg-color: #3B4455;\n",
              "      --fill-color: #D2E3FC;\n",
              "      --hover-bg-color: #434B5C;\n",
              "      --hover-fill-color: #FFFFFF;\n",
              "      --disabled-bg-color: #3B4455;\n",
              "      --disabled-fill-color: #666;\n",
              "  }\n",
              "\n",
              "  .colab-df-quickchart {\n",
              "    background-color: var(--bg-color);\n",
              "    border: none;\n",
              "    border-radius: 50%;\n",
              "    cursor: pointer;\n",
              "    display: none;\n",
              "    fill: var(--fill-color);\n",
              "    height: 32px;\n",
              "    padding: 0;\n",
              "    width: 32px;\n",
              "  }\n",
              "\n",
              "  .colab-df-quickchart:hover {\n",
              "    background-color: var(--hover-bg-color);\n",
              "    box-shadow: 0 1px 2px rgba(60, 64, 67, 0.3), 0 1px 3px 1px rgba(60, 64, 67, 0.15);\n",
              "    fill: var(--button-hover-fill-color);\n",
              "  }\n",
              "\n",
              "  .colab-df-quickchart-complete:disabled,\n",
              "  .colab-df-quickchart-complete:disabled:hover {\n",
              "    background-color: var(--disabled-bg-color);\n",
              "    fill: var(--disabled-fill-color);\n",
              "    box-shadow: none;\n",
              "  }\n",
              "\n",
              "  .colab-df-spinner {\n",
              "    border: 2px solid var(--fill-color);\n",
              "    border-color: transparent;\n",
              "    border-bottom-color: var(--fill-color);\n",
              "    animation:\n",
              "      spin 1s steps(1) infinite;\n",
              "  }\n",
              "\n",
              "  @keyframes spin {\n",
              "    0% {\n",
              "      border-color: transparent;\n",
              "      border-bottom-color: var(--fill-color);\n",
              "      border-left-color: var(--fill-color);\n",
              "    }\n",
              "    20% {\n",
              "      border-color: transparent;\n",
              "      border-left-color: var(--fill-color);\n",
              "      border-top-color: var(--fill-color);\n",
              "    }\n",
              "    30% {\n",
              "      border-color: transparent;\n",
              "      border-left-color: var(--fill-color);\n",
              "      border-top-color: var(--fill-color);\n",
              "      border-right-color: var(--fill-color);\n",
              "    }\n",
              "    40% {\n",
              "      border-color: transparent;\n",
              "      border-right-color: var(--fill-color);\n",
              "      border-top-color: var(--fill-color);\n",
              "    }\n",
              "    60% {\n",
              "      border-color: transparent;\n",
              "      border-right-color: var(--fill-color);\n",
              "    }\n",
              "    80% {\n",
              "      border-color: transparent;\n",
              "      border-right-color: var(--fill-color);\n",
              "      border-bottom-color: var(--fill-color);\n",
              "    }\n",
              "    90% {\n",
              "      border-color: transparent;\n",
              "      border-bottom-color: var(--fill-color);\n",
              "    }\n",
              "  }\n",
              "</style>\n",
              "\n",
              "  <script>\n",
              "    async function quickchart(key) {\n",
              "      const quickchartButtonEl =\n",
              "        document.querySelector('#' + key + ' button');\n",
              "      quickchartButtonEl.disabled = true;  // To prevent multiple clicks.\n",
              "      quickchartButtonEl.classList.add('colab-df-spinner');\n",
              "      try {\n",
              "        const charts = await google.colab.kernel.invokeFunction(\n",
              "            'suggestCharts', [key], {});\n",
              "      } catch (error) {\n",
              "        console.error('Error during call to suggestCharts:', error);\n",
              "      }\n",
              "      quickchartButtonEl.classList.remove('colab-df-spinner');\n",
              "      quickchartButtonEl.classList.add('colab-df-quickchart-complete');\n",
              "    }\n",
              "    (() => {\n",
              "      let quickchartButtonEl =\n",
              "        document.querySelector('#df-f02ceeb1-e73a-4c50-b252-462b50b94a39 button');\n",
              "      quickchartButtonEl.style.display =\n",
              "        google.colab.kernel.accessAllowed ? 'block' : 'none';\n",
              "    })();\n",
              "  </script>\n",
              "</div>\n",
              "\n",
              "    </div>\n",
              "  </div>\n"
            ],
            "application/vnd.google.colaboratory.intrinsic+json": {
              "type": "dataframe",
              "variable_name": "titanic_data",
              "summary": "{\n  \"name\": \"titanic_data\",\n  \"rows\": 891,\n  \"fields\": [\n    {\n      \"column\": \"PassengerId\",\n      \"properties\": {\n        \"dtype\": \"number\",\n        \"std\": 257,\n        \"min\": 1,\n        \"max\": 891,\n        \"num_unique_values\": 891,\n        \"samples\": [\n          710,\n          440,\n          841\n        ],\n        \"semantic_type\": \"\",\n        \"description\": \"\"\n      }\n    },\n    {\n      \"column\": \"Survived\",\n      \"properties\": {\n        \"dtype\": \"number\",\n        \"std\": 0,\n        \"min\": 0,\n        \"max\": 1,\n        \"num_unique_values\": 2,\n        \"samples\": [\n          1,\n          0\n        ],\n        \"semantic_type\": \"\",\n        \"description\": \"\"\n      }\n    },\n    {\n      \"column\": \"Pclass\",\n      \"properties\": {\n        \"dtype\": \"number\",\n        \"std\": 0,\n        \"min\": 1,\n        \"max\": 3,\n        \"num_unique_values\": 3,\n        \"samples\": [\n          3,\n          1\n        ],\n        \"semantic_type\": \"\",\n        \"description\": \"\"\n      }\n    },\n    {\n      \"column\": \"Name\",\n      \"properties\": {\n        \"dtype\": \"string\",\n        \"num_unique_values\": 891,\n        \"samples\": [\n          \"Moubarek, Master. Halim Gonios (\\\"William George\\\")\",\n          \"Kvillner, Mr. Johan Henrik Johannesson\"\n        ],\n        \"semantic_type\": \"\",\n        \"description\": \"\"\n      }\n    },\n    {\n      \"column\": \"Sex\",\n      \"properties\": {\n        \"dtype\": \"category\",\n        \"num_unique_values\": 2,\n        \"samples\": [\n          \"female\",\n          \"male\"\n        ],\n        \"semantic_type\": \"\",\n        \"description\": \"\"\n      }\n    },\n    {\n      \"column\": \"Age\",\n      \"properties\": {\n        \"dtype\": \"number\",\n        \"std\": 14.526497332334042,\n        \"min\": 0.42,\n        \"max\": 80.0,\n        \"num_unique_values\": 88,\n        \"samples\": [\n          0.75,\n          22.0\n        ],\n        \"semantic_type\": \"\",\n        \"description\": \"\"\n      }\n    },\n    {\n      \"column\": \"SibSp\",\n      \"properties\": {\n        \"dtype\": \"number\",\n        \"std\": 1,\n        \"min\": 0,\n        \"max\": 8,\n        \"num_unique_values\": 7,\n        \"samples\": [\n          1,\n          0\n        ],\n        \"semantic_type\": \"\",\n        \"description\": \"\"\n      }\n    },\n    {\n      \"column\": \"Parch\",\n      \"properties\": {\n        \"dtype\": \"number\",\n        \"std\": 0,\n        \"min\": 0,\n        \"max\": 6,\n        \"num_unique_values\": 7,\n        \"samples\": [\n          0,\n          1\n        ],\n        \"semantic_type\": \"\",\n        \"description\": \"\"\n      }\n    },\n    {\n      \"column\": \"Ticket\",\n      \"properties\": {\n        \"dtype\": \"string\",\n        \"num_unique_values\": 681,\n        \"samples\": [\n          \"11774\",\n          \"248740\"\n        ],\n        \"semantic_type\": \"\",\n        \"description\": \"\"\n      }\n    },\n    {\n      \"column\": \"Fare\",\n      \"properties\": {\n        \"dtype\": \"number\",\n        \"std\": 49.6934285971809,\n        \"min\": 0.0,\n        \"max\": 512.3292,\n        \"num_unique_values\": 248,\n        \"samples\": [\n          11.2417,\n          51.8625\n        ],\n        \"semantic_type\": \"\",\n        \"description\": \"\"\n      }\n    },\n    {\n      \"column\": \"Cabin\",\n      \"properties\": {\n        \"dtype\": \"category\",\n        \"num_unique_values\": 147,\n        \"samples\": [\n          \"D45\",\n          \"B49\"\n        ],\n        \"semantic_type\": \"\",\n        \"description\": \"\"\n      }\n    },\n    {\n      \"column\": \"Embarked\",\n      \"properties\": {\n        \"dtype\": \"category\",\n        \"num_unique_values\": 3,\n        \"samples\": [\n          \"S\",\n          \"C\"\n        ],\n        \"semantic_type\": \"\",\n        \"description\": \"\"\n      }\n    }\n  ]\n}"
            }
          },
          "metadata": {},
          "execution_count": 3
        }
      ]
    },
    {
      "cell_type": "code",
      "source": [
        "titanic_data.shape"
      ],
      "metadata": {
        "colab": {
          "base_uri": "https://localhost:8080/"
        },
        "id": "Yr_-2yVHES7E",
        "outputId": "16bbd8de-e07e-4aa3-dae8-f8d28e6106bf"
      },
      "execution_count": 4,
      "outputs": [
        {
          "output_type": "execute_result",
          "data": {
            "text/plain": [
              "(891, 12)"
            ]
          },
          "metadata": {},
          "execution_count": 4
        }
      ]
    },
    {
      "cell_type": "code",
      "source": [
        "titanic_data.info()"
      ],
      "metadata": {
        "colab": {
          "base_uri": "https://localhost:8080/"
        },
        "id": "vdg12O_uETQs",
        "outputId": "c9eb1dc8-fd88-4d8b-bb54-2a42fafcd955"
      },
      "execution_count": 5,
      "outputs": [
        {
          "output_type": "stream",
          "name": "stdout",
          "text": [
            "<class 'pandas.core.frame.DataFrame'>\n",
            "RangeIndex: 891 entries, 0 to 890\n",
            "Data columns (total 12 columns):\n",
            " #   Column       Non-Null Count  Dtype  \n",
            "---  ------       --------------  -----  \n",
            " 0   PassengerId  891 non-null    int64  \n",
            " 1   Survived     891 non-null    int64  \n",
            " 2   Pclass       891 non-null    int64  \n",
            " 3   Name         891 non-null    object \n",
            " 4   Sex          891 non-null    object \n",
            " 5   Age          714 non-null    float64\n",
            " 6   SibSp        891 non-null    int64  \n",
            " 7   Parch        891 non-null    int64  \n",
            " 8   Ticket       891 non-null    object \n",
            " 9   Fare         891 non-null    float64\n",
            " 10  Cabin        204 non-null    object \n",
            " 11  Embarked     889 non-null    object \n",
            "dtypes: float64(2), int64(5), object(5)\n",
            "memory usage: 83.7+ KB\n"
          ]
        }
      ]
    },
    {
      "cell_type": "code",
      "source": [
        "titanic_data.isnull().sum()"
      ],
      "metadata": {
        "colab": {
          "base_uri": "https://localhost:8080/"
        },
        "id": "wuvM9xmUEjHM",
        "outputId": "58663020-d40c-4333-f554-64d52bbd16d2"
      },
      "execution_count": 6,
      "outputs": [
        {
          "output_type": "execute_result",
          "data": {
            "text/plain": [
              "PassengerId      0\n",
              "Survived         0\n",
              "Pclass           0\n",
              "Name             0\n",
              "Sex              0\n",
              "Age            177\n",
              "SibSp            0\n",
              "Parch            0\n",
              "Ticket           0\n",
              "Fare             0\n",
              "Cabin          687\n",
              "Embarked         2\n",
              "dtype: int64"
            ]
          },
          "metadata": {},
          "execution_count": 6
        }
      ]
    },
    {
      "cell_type": "code",
      "source": [
        "titanic_data = pd.read_csv('Titanic-Dataset.csv')\n",
        "\n",
        "titanic_data.head()"
      ],
      "metadata": {
        "colab": {
          "base_uri": "https://localhost:8080/",
          "height": 258
        },
        "id": "GhVZMfaeF_6B",
        "outputId": "99f198ff-c620-4df1-8e7e-32c77ea3b92a"
      },
      "execution_count": 19,
      "outputs": [
        {
          "output_type": "execute_result",
          "data": {
            "text/plain": [
              "   PassengerId  Survived  Pclass  \\\n",
              "0            1         0       3   \n",
              "1            2         1       1   \n",
              "2            3         1       3   \n",
              "3            4         1       1   \n",
              "4            5         0       3   \n",
              "\n",
              "                                                Name     Sex   Age  SibSp  \\\n",
              "0                            Braund, Mr. Owen Harris    male  22.0      1   \n",
              "1  Cumings, Mrs. John Bradley (Florence Briggs Th...  female  38.0      1   \n",
              "2                             Heikkinen, Miss. Laina  female  26.0      0   \n",
              "3       Futrelle, Mrs. Jacques Heath (Lily May Peel)  female  35.0      1   \n",
              "4                           Allen, Mr. William Henry    male  35.0      0   \n",
              "\n",
              "   Parch            Ticket     Fare Cabin Embarked  \n",
              "0      0         A/5 21171   7.2500   NaN        S  \n",
              "1      0          PC 17599  71.2833   C85        C  \n",
              "2      0  STON/O2. 3101282   7.9250   NaN        S  \n",
              "3      0            113803  53.1000  C123        S  \n",
              "4      0            373450   8.0500   NaN        S  "
            ],
            "text/html": [
              "\n",
              "  <div id=\"df-6a7c8ce4-44bf-4050-a11c-c9509a9e4a48\" class=\"colab-df-container\">\n",
              "    <div>\n",
              "<style scoped>\n",
              "    .dataframe tbody tr th:only-of-type {\n",
              "        vertical-align: middle;\n",
              "    }\n",
              "\n",
              "    .dataframe tbody tr th {\n",
              "        vertical-align: top;\n",
              "    }\n",
              "\n",
              "    .dataframe thead th {\n",
              "        text-align: right;\n",
              "    }\n",
              "</style>\n",
              "<table border=\"1\" class=\"dataframe\">\n",
              "  <thead>\n",
              "    <tr style=\"text-align: right;\">\n",
              "      <th></th>\n",
              "      <th>PassengerId</th>\n",
              "      <th>Survived</th>\n",
              "      <th>Pclass</th>\n",
              "      <th>Name</th>\n",
              "      <th>Sex</th>\n",
              "      <th>Age</th>\n",
              "      <th>SibSp</th>\n",
              "      <th>Parch</th>\n",
              "      <th>Ticket</th>\n",
              "      <th>Fare</th>\n",
              "      <th>Cabin</th>\n",
              "      <th>Embarked</th>\n",
              "    </tr>\n",
              "  </thead>\n",
              "  <tbody>\n",
              "    <tr>\n",
              "      <th>0</th>\n",
              "      <td>1</td>\n",
              "      <td>0</td>\n",
              "      <td>3</td>\n",
              "      <td>Braund, Mr. Owen Harris</td>\n",
              "      <td>male</td>\n",
              "      <td>22.0</td>\n",
              "      <td>1</td>\n",
              "      <td>0</td>\n",
              "      <td>A/5 21171</td>\n",
              "      <td>7.2500</td>\n",
              "      <td>NaN</td>\n",
              "      <td>S</td>\n",
              "    </tr>\n",
              "    <tr>\n",
              "      <th>1</th>\n",
              "      <td>2</td>\n",
              "      <td>1</td>\n",
              "      <td>1</td>\n",
              "      <td>Cumings, Mrs. John Bradley (Florence Briggs Th...</td>\n",
              "      <td>female</td>\n",
              "      <td>38.0</td>\n",
              "      <td>1</td>\n",
              "      <td>0</td>\n",
              "      <td>PC 17599</td>\n",
              "      <td>71.2833</td>\n",
              "      <td>C85</td>\n",
              "      <td>C</td>\n",
              "    </tr>\n",
              "    <tr>\n",
              "      <th>2</th>\n",
              "      <td>3</td>\n",
              "      <td>1</td>\n",
              "      <td>3</td>\n",
              "      <td>Heikkinen, Miss. Laina</td>\n",
              "      <td>female</td>\n",
              "      <td>26.0</td>\n",
              "      <td>0</td>\n",
              "      <td>0</td>\n",
              "      <td>STON/O2. 3101282</td>\n",
              "      <td>7.9250</td>\n",
              "      <td>NaN</td>\n",
              "      <td>S</td>\n",
              "    </tr>\n",
              "    <tr>\n",
              "      <th>3</th>\n",
              "      <td>4</td>\n",
              "      <td>1</td>\n",
              "      <td>1</td>\n",
              "      <td>Futrelle, Mrs. Jacques Heath (Lily May Peel)</td>\n",
              "      <td>female</td>\n",
              "      <td>35.0</td>\n",
              "      <td>1</td>\n",
              "      <td>0</td>\n",
              "      <td>113803</td>\n",
              "      <td>53.1000</td>\n",
              "      <td>C123</td>\n",
              "      <td>S</td>\n",
              "    </tr>\n",
              "    <tr>\n",
              "      <th>4</th>\n",
              "      <td>5</td>\n",
              "      <td>0</td>\n",
              "      <td>3</td>\n",
              "      <td>Allen, Mr. William Henry</td>\n",
              "      <td>male</td>\n",
              "      <td>35.0</td>\n",
              "      <td>0</td>\n",
              "      <td>0</td>\n",
              "      <td>373450</td>\n",
              "      <td>8.0500</td>\n",
              "      <td>NaN</td>\n",
              "      <td>S</td>\n",
              "    </tr>\n",
              "  </tbody>\n",
              "</table>\n",
              "</div>\n",
              "    <div class=\"colab-df-buttons\">\n",
              "\n",
              "  <div class=\"colab-df-container\">\n",
              "    <button class=\"colab-df-convert\" onclick=\"convertToInteractive('df-6a7c8ce4-44bf-4050-a11c-c9509a9e4a48')\"\n",
              "            title=\"Convert this dataframe to an interactive table.\"\n",
              "            style=\"display:none;\">\n",
              "\n",
              "  <svg xmlns=\"http://www.w3.org/2000/svg\" height=\"24px\" viewBox=\"0 -960 960 960\">\n",
              "    <path d=\"M120-120v-720h720v720H120Zm60-500h600v-160H180v160Zm220 220h160v-160H400v160Zm0 220h160v-160H400v160ZM180-400h160v-160H180v160Zm440 0h160v-160H620v160ZM180-180h160v-160H180v160Zm440 0h160v-160H620v160Z\"/>\n",
              "  </svg>\n",
              "    </button>\n",
              "\n",
              "  <style>\n",
              "    .colab-df-container {\n",
              "      display:flex;\n",
              "      gap: 12px;\n",
              "    }\n",
              "\n",
              "    .colab-df-convert {\n",
              "      background-color: #E8F0FE;\n",
              "      border: none;\n",
              "      border-radius: 50%;\n",
              "      cursor: pointer;\n",
              "      display: none;\n",
              "      fill: #1967D2;\n",
              "      height: 32px;\n",
              "      padding: 0 0 0 0;\n",
              "      width: 32px;\n",
              "    }\n",
              "\n",
              "    .colab-df-convert:hover {\n",
              "      background-color: #E2EBFA;\n",
              "      box-shadow: 0px 1px 2px rgba(60, 64, 67, 0.3), 0px 1px 3px 1px rgba(60, 64, 67, 0.15);\n",
              "      fill: #174EA6;\n",
              "    }\n",
              "\n",
              "    .colab-df-buttons div {\n",
              "      margin-bottom: 4px;\n",
              "    }\n",
              "\n",
              "    [theme=dark] .colab-df-convert {\n",
              "      background-color: #3B4455;\n",
              "      fill: #D2E3FC;\n",
              "    }\n",
              "\n",
              "    [theme=dark] .colab-df-convert:hover {\n",
              "      background-color: #434B5C;\n",
              "      box-shadow: 0px 1px 3px 1px rgba(0, 0, 0, 0.15);\n",
              "      filter: drop-shadow(0px 1px 2px rgba(0, 0, 0, 0.3));\n",
              "      fill: #FFFFFF;\n",
              "    }\n",
              "  </style>\n",
              "\n",
              "    <script>\n",
              "      const buttonEl =\n",
              "        document.querySelector('#df-6a7c8ce4-44bf-4050-a11c-c9509a9e4a48 button.colab-df-convert');\n",
              "      buttonEl.style.display =\n",
              "        google.colab.kernel.accessAllowed ? 'block' : 'none';\n",
              "\n",
              "      async function convertToInteractive(key) {\n",
              "        const element = document.querySelector('#df-6a7c8ce4-44bf-4050-a11c-c9509a9e4a48');\n",
              "        const dataTable =\n",
              "          await google.colab.kernel.invokeFunction('convertToInteractive',\n",
              "                                                    [key], {});\n",
              "        if (!dataTable) return;\n",
              "\n",
              "        const docLinkHtml = 'Like what you see? Visit the ' +\n",
              "          '<a target=\"_blank\" href=https://colab.research.google.com/notebooks/data_table.ipynb>data table notebook</a>'\n",
              "          + ' to learn more about interactive tables.';\n",
              "        element.innerHTML = '';\n",
              "        dataTable['output_type'] = 'display_data';\n",
              "        await google.colab.output.renderOutput(dataTable, element);\n",
              "        const docLink = document.createElement('div');\n",
              "        docLink.innerHTML = docLinkHtml;\n",
              "        element.appendChild(docLink);\n",
              "      }\n",
              "    </script>\n",
              "  </div>\n",
              "\n",
              "\n",
              "<div id=\"df-90b7b977-49c6-487e-b37f-b2da71b401bc\">\n",
              "  <button class=\"colab-df-quickchart\" onclick=\"quickchart('df-90b7b977-49c6-487e-b37f-b2da71b401bc')\"\n",
              "            title=\"Suggest charts\"\n",
              "            style=\"display:none;\">\n",
              "\n",
              "<svg xmlns=\"http://www.w3.org/2000/svg\" height=\"24px\"viewBox=\"0 0 24 24\"\n",
              "     width=\"24px\">\n",
              "    <g>\n",
              "        <path d=\"M19 3H5c-1.1 0-2 .9-2 2v14c0 1.1.9 2 2 2h14c1.1 0 2-.9 2-2V5c0-1.1-.9-2-2-2zM9 17H7v-7h2v7zm4 0h-2V7h2v10zm4 0h-2v-4h2v4z\"/>\n",
              "    </g>\n",
              "</svg>\n",
              "  </button>\n",
              "\n",
              "<style>\n",
              "  .colab-df-quickchart {\n",
              "      --bg-color: #E8F0FE;\n",
              "      --fill-color: #1967D2;\n",
              "      --hover-bg-color: #E2EBFA;\n",
              "      --hover-fill-color: #174EA6;\n",
              "      --disabled-fill-color: #AAA;\n",
              "      --disabled-bg-color: #DDD;\n",
              "  }\n",
              "\n",
              "  [theme=dark] .colab-df-quickchart {\n",
              "      --bg-color: #3B4455;\n",
              "      --fill-color: #D2E3FC;\n",
              "      --hover-bg-color: #434B5C;\n",
              "      --hover-fill-color: #FFFFFF;\n",
              "      --disabled-bg-color: #3B4455;\n",
              "      --disabled-fill-color: #666;\n",
              "  }\n",
              "\n",
              "  .colab-df-quickchart {\n",
              "    background-color: var(--bg-color);\n",
              "    border: none;\n",
              "    border-radius: 50%;\n",
              "    cursor: pointer;\n",
              "    display: none;\n",
              "    fill: var(--fill-color);\n",
              "    height: 32px;\n",
              "    padding: 0;\n",
              "    width: 32px;\n",
              "  }\n",
              "\n",
              "  .colab-df-quickchart:hover {\n",
              "    background-color: var(--hover-bg-color);\n",
              "    box-shadow: 0 1px 2px rgba(60, 64, 67, 0.3), 0 1px 3px 1px rgba(60, 64, 67, 0.15);\n",
              "    fill: var(--button-hover-fill-color);\n",
              "  }\n",
              "\n",
              "  .colab-df-quickchart-complete:disabled,\n",
              "  .colab-df-quickchart-complete:disabled:hover {\n",
              "    background-color: var(--disabled-bg-color);\n",
              "    fill: var(--disabled-fill-color);\n",
              "    box-shadow: none;\n",
              "  }\n",
              "\n",
              "  .colab-df-spinner {\n",
              "    border: 2px solid var(--fill-color);\n",
              "    border-color: transparent;\n",
              "    border-bottom-color: var(--fill-color);\n",
              "    animation:\n",
              "      spin 1s steps(1) infinite;\n",
              "  }\n",
              "\n",
              "  @keyframes spin {\n",
              "    0% {\n",
              "      border-color: transparent;\n",
              "      border-bottom-color: var(--fill-color);\n",
              "      border-left-color: var(--fill-color);\n",
              "    }\n",
              "    20% {\n",
              "      border-color: transparent;\n",
              "      border-left-color: var(--fill-color);\n",
              "      border-top-color: var(--fill-color);\n",
              "    }\n",
              "    30% {\n",
              "      border-color: transparent;\n",
              "      border-left-color: var(--fill-color);\n",
              "      border-top-color: var(--fill-color);\n",
              "      border-right-color: var(--fill-color);\n",
              "    }\n",
              "    40% {\n",
              "      border-color: transparent;\n",
              "      border-right-color: var(--fill-color);\n",
              "      border-top-color: var(--fill-color);\n",
              "    }\n",
              "    60% {\n",
              "      border-color: transparent;\n",
              "      border-right-color: var(--fill-color);\n",
              "    }\n",
              "    80% {\n",
              "      border-color: transparent;\n",
              "      border-right-color: var(--fill-color);\n",
              "      border-bottom-color: var(--fill-color);\n",
              "    }\n",
              "    90% {\n",
              "      border-color: transparent;\n",
              "      border-bottom-color: var(--fill-color);\n",
              "    }\n",
              "  }\n",
              "</style>\n",
              "\n",
              "  <script>\n",
              "    async function quickchart(key) {\n",
              "      const quickchartButtonEl =\n",
              "        document.querySelector('#' + key + ' button');\n",
              "      quickchartButtonEl.disabled = true;  // To prevent multiple clicks.\n",
              "      quickchartButtonEl.classList.add('colab-df-spinner');\n",
              "      try {\n",
              "        const charts = await google.colab.kernel.invokeFunction(\n",
              "            'suggestCharts', [key], {});\n",
              "      } catch (error) {\n",
              "        console.error('Error during call to suggestCharts:', error);\n",
              "      }\n",
              "      quickchartButtonEl.classList.remove('colab-df-spinner');\n",
              "      quickchartButtonEl.classList.add('colab-df-quickchart-complete');\n",
              "    }\n",
              "    (() => {\n",
              "      let quickchartButtonEl =\n",
              "        document.querySelector('#df-90b7b977-49c6-487e-b37f-b2da71b401bc button');\n",
              "      quickchartButtonEl.style.display =\n",
              "        google.colab.kernel.accessAllowed ? 'block' : 'none';\n",
              "    })();\n",
              "  </script>\n",
              "</div>\n",
              "\n",
              "    </div>\n",
              "  </div>\n"
            ],
            "application/vnd.google.colaboratory.intrinsic+json": {
              "type": "dataframe",
              "variable_name": "titanic_data",
              "summary": "{\n  \"name\": \"titanic_data\",\n  \"rows\": 891,\n  \"fields\": [\n    {\n      \"column\": \"PassengerId\",\n      \"properties\": {\n        \"dtype\": \"number\",\n        \"std\": 257,\n        \"min\": 1,\n        \"max\": 891,\n        \"num_unique_values\": 891,\n        \"samples\": [\n          710,\n          440,\n          841\n        ],\n        \"semantic_type\": \"\",\n        \"description\": \"\"\n      }\n    },\n    {\n      \"column\": \"Survived\",\n      \"properties\": {\n        \"dtype\": \"number\",\n        \"std\": 0,\n        \"min\": 0,\n        \"max\": 1,\n        \"num_unique_values\": 2,\n        \"samples\": [\n          1,\n          0\n        ],\n        \"semantic_type\": \"\",\n        \"description\": \"\"\n      }\n    },\n    {\n      \"column\": \"Pclass\",\n      \"properties\": {\n        \"dtype\": \"number\",\n        \"std\": 0,\n        \"min\": 1,\n        \"max\": 3,\n        \"num_unique_values\": 3,\n        \"samples\": [\n          3,\n          1\n        ],\n        \"semantic_type\": \"\",\n        \"description\": \"\"\n      }\n    },\n    {\n      \"column\": \"Name\",\n      \"properties\": {\n        \"dtype\": \"string\",\n        \"num_unique_values\": 891,\n        \"samples\": [\n          \"Moubarek, Master. Halim Gonios (\\\"William George\\\")\",\n          \"Kvillner, Mr. Johan Henrik Johannesson\"\n        ],\n        \"semantic_type\": \"\",\n        \"description\": \"\"\n      }\n    },\n    {\n      \"column\": \"Sex\",\n      \"properties\": {\n        \"dtype\": \"category\",\n        \"num_unique_values\": 2,\n        \"samples\": [\n          \"female\",\n          \"male\"\n        ],\n        \"semantic_type\": \"\",\n        \"description\": \"\"\n      }\n    },\n    {\n      \"column\": \"Age\",\n      \"properties\": {\n        \"dtype\": \"number\",\n        \"std\": 14.526497332334042,\n        \"min\": 0.42,\n        \"max\": 80.0,\n        \"num_unique_values\": 88,\n        \"samples\": [\n          0.75,\n          22.0\n        ],\n        \"semantic_type\": \"\",\n        \"description\": \"\"\n      }\n    },\n    {\n      \"column\": \"SibSp\",\n      \"properties\": {\n        \"dtype\": \"number\",\n        \"std\": 1,\n        \"min\": 0,\n        \"max\": 8,\n        \"num_unique_values\": 7,\n        \"samples\": [\n          1,\n          0\n        ],\n        \"semantic_type\": \"\",\n        \"description\": \"\"\n      }\n    },\n    {\n      \"column\": \"Parch\",\n      \"properties\": {\n        \"dtype\": \"number\",\n        \"std\": 0,\n        \"min\": 0,\n        \"max\": 6,\n        \"num_unique_values\": 7,\n        \"samples\": [\n          0,\n          1\n        ],\n        \"semantic_type\": \"\",\n        \"description\": \"\"\n      }\n    },\n    {\n      \"column\": \"Ticket\",\n      \"properties\": {\n        \"dtype\": \"string\",\n        \"num_unique_values\": 681,\n        \"samples\": [\n          \"11774\",\n          \"248740\"\n        ],\n        \"semantic_type\": \"\",\n        \"description\": \"\"\n      }\n    },\n    {\n      \"column\": \"Fare\",\n      \"properties\": {\n        \"dtype\": \"number\",\n        \"std\": 49.6934285971809,\n        \"min\": 0.0,\n        \"max\": 512.3292,\n        \"num_unique_values\": 248,\n        \"samples\": [\n          11.2417,\n          51.8625\n        ],\n        \"semantic_type\": \"\",\n        \"description\": \"\"\n      }\n    },\n    {\n      \"column\": \"Cabin\",\n      \"properties\": {\n        \"dtype\": \"category\",\n        \"num_unique_values\": 147,\n        \"samples\": [\n          \"D45\",\n          \"B49\"\n        ],\n        \"semantic_type\": \"\",\n        \"description\": \"\"\n      }\n    },\n    {\n      \"column\": \"Embarked\",\n      \"properties\": {\n        \"dtype\": \"category\",\n        \"num_unique_values\": 3,\n        \"samples\": [\n          \"S\",\n          \"C\"\n        ],\n        \"semantic_type\": \"\",\n        \"description\": \"\"\n      }\n    }\n  ]\n}"
            }
          },
          "metadata": {},
          "execution_count": 19
        }
      ]
    },
    {
      "cell_type": "code",
      "source": [
        "titanic_data= titanic_data.drop(columns='Cabin',axis=1)"
      ],
      "metadata": {
        "id": "NuQJnmcAGl4l"
      },
      "execution_count": 20,
      "outputs": []
    },
    {
      "cell_type": "code",
      "source": [
        "titanic_data['Age'].fillna(titanic_data['Age'].mean(),inplace=True)"
      ],
      "metadata": {
        "id": "Hae-hVpAGsLB"
      },
      "execution_count": 21,
      "outputs": []
    },
    {
      "cell_type": "code",
      "source": [
        "titanic_data.isnull().sum()"
      ],
      "metadata": {
        "colab": {
          "base_uri": "https://localhost:8080/"
        },
        "id": "lxcY_Pf_GzWL",
        "outputId": "5e347ce3-6190-4c66-a012-16c308029871"
      },
      "execution_count": 22,
      "outputs": [
        {
          "output_type": "execute_result",
          "data": {
            "text/plain": [
              "PassengerId    0\n",
              "Survived       0\n",
              "Pclass         0\n",
              "Name           0\n",
              "Sex            0\n",
              "Age            0\n",
              "SibSp          0\n",
              "Parch          0\n",
              "Ticket         0\n",
              "Fare           0\n",
              "Embarked       2\n",
              "dtype: int64"
            ]
          },
          "metadata": {},
          "execution_count": 22
        }
      ]
    },
    {
      "cell_type": "code",
      "source": [
        "titanic_data['Embarked'].fillna(titanic_data['Embarked'].mode()[0],inplace=True)\n"
      ],
      "metadata": {
        "id": "K-g0kQ3aHEMI"
      },
      "execution_count": 25,
      "outputs": []
    },
    {
      "cell_type": "code",
      "source": [
        "titanic_data.isnull().sum()"
      ],
      "metadata": {
        "colab": {
          "base_uri": "https://localhost:8080/"
        },
        "id": "Ovf87s_2HQ-T",
        "outputId": "3f7808b5-ede7-43ed-8e34-c0f3ba6a148e"
      },
      "execution_count": 26,
      "outputs": [
        {
          "output_type": "execute_result",
          "data": {
            "text/plain": [
              "PassengerId    0\n",
              "Survived       0\n",
              "Pclass         0\n",
              "Name           0\n",
              "Sex            0\n",
              "Age            0\n",
              "SibSp          0\n",
              "Parch          0\n",
              "Ticket         0\n",
              "Fare           0\n",
              "Embarked       0\n",
              "dtype: int64"
            ]
          },
          "metadata": {},
          "execution_count": 26
        }
      ]
    },
    {
      "cell_type": "code",
      "source": [
        "titanic_data.describe()"
      ],
      "metadata": {
        "colab": {
          "base_uri": "https://localhost:8080/",
          "height": 300
        },
        "id": "E6qoZ43eHRLc",
        "outputId": "16ef3a74-4e55-47cc-b159-174302c9d4e1"
      },
      "execution_count": 27,
      "outputs": [
        {
          "output_type": "execute_result",
          "data": {
            "text/plain": [
              "       PassengerId    Survived      Pclass         Age       SibSp  \\\n",
              "count   891.000000  891.000000  891.000000  891.000000  891.000000   \n",
              "mean    446.000000    0.383838    2.308642   29.699118    0.523008   \n",
              "std     257.353842    0.486592    0.836071   13.002015    1.102743   \n",
              "min       1.000000    0.000000    1.000000    0.420000    0.000000   \n",
              "25%     223.500000    0.000000    2.000000   22.000000    0.000000   \n",
              "50%     446.000000    0.000000    3.000000   29.699118    0.000000   \n",
              "75%     668.500000    1.000000    3.000000   35.000000    1.000000   \n",
              "max     891.000000    1.000000    3.000000   80.000000    8.000000   \n",
              "\n",
              "            Parch        Fare  \n",
              "count  891.000000  891.000000  \n",
              "mean     0.381594   32.204208  \n",
              "std      0.806057   49.693429  \n",
              "min      0.000000    0.000000  \n",
              "25%      0.000000    7.910400  \n",
              "50%      0.000000   14.454200  \n",
              "75%      0.000000   31.000000  \n",
              "max      6.000000  512.329200  "
            ],
            "text/html": [
              "\n",
              "  <div id=\"df-e2a0ce1b-670d-4f6e-baf5-a00785c10960\" class=\"colab-df-container\">\n",
              "    <div>\n",
              "<style scoped>\n",
              "    .dataframe tbody tr th:only-of-type {\n",
              "        vertical-align: middle;\n",
              "    }\n",
              "\n",
              "    .dataframe tbody tr th {\n",
              "        vertical-align: top;\n",
              "    }\n",
              "\n",
              "    .dataframe thead th {\n",
              "        text-align: right;\n",
              "    }\n",
              "</style>\n",
              "<table border=\"1\" class=\"dataframe\">\n",
              "  <thead>\n",
              "    <tr style=\"text-align: right;\">\n",
              "      <th></th>\n",
              "      <th>PassengerId</th>\n",
              "      <th>Survived</th>\n",
              "      <th>Pclass</th>\n",
              "      <th>Age</th>\n",
              "      <th>SibSp</th>\n",
              "      <th>Parch</th>\n",
              "      <th>Fare</th>\n",
              "    </tr>\n",
              "  </thead>\n",
              "  <tbody>\n",
              "    <tr>\n",
              "      <th>count</th>\n",
              "      <td>891.000000</td>\n",
              "      <td>891.000000</td>\n",
              "      <td>891.000000</td>\n",
              "      <td>891.000000</td>\n",
              "      <td>891.000000</td>\n",
              "      <td>891.000000</td>\n",
              "      <td>891.000000</td>\n",
              "    </tr>\n",
              "    <tr>\n",
              "      <th>mean</th>\n",
              "      <td>446.000000</td>\n",
              "      <td>0.383838</td>\n",
              "      <td>2.308642</td>\n",
              "      <td>29.699118</td>\n",
              "      <td>0.523008</td>\n",
              "      <td>0.381594</td>\n",
              "      <td>32.204208</td>\n",
              "    </tr>\n",
              "    <tr>\n",
              "      <th>std</th>\n",
              "      <td>257.353842</td>\n",
              "      <td>0.486592</td>\n",
              "      <td>0.836071</td>\n",
              "      <td>13.002015</td>\n",
              "      <td>1.102743</td>\n",
              "      <td>0.806057</td>\n",
              "      <td>49.693429</td>\n",
              "    </tr>\n",
              "    <tr>\n",
              "      <th>min</th>\n",
              "      <td>1.000000</td>\n",
              "      <td>0.000000</td>\n",
              "      <td>1.000000</td>\n",
              "      <td>0.420000</td>\n",
              "      <td>0.000000</td>\n",
              "      <td>0.000000</td>\n",
              "      <td>0.000000</td>\n",
              "    </tr>\n",
              "    <tr>\n",
              "      <th>25%</th>\n",
              "      <td>223.500000</td>\n",
              "      <td>0.000000</td>\n",
              "      <td>2.000000</td>\n",
              "      <td>22.000000</td>\n",
              "      <td>0.000000</td>\n",
              "      <td>0.000000</td>\n",
              "      <td>7.910400</td>\n",
              "    </tr>\n",
              "    <tr>\n",
              "      <th>50%</th>\n",
              "      <td>446.000000</td>\n",
              "      <td>0.000000</td>\n",
              "      <td>3.000000</td>\n",
              "      <td>29.699118</td>\n",
              "      <td>0.000000</td>\n",
              "      <td>0.000000</td>\n",
              "      <td>14.454200</td>\n",
              "    </tr>\n",
              "    <tr>\n",
              "      <th>75%</th>\n",
              "      <td>668.500000</td>\n",
              "      <td>1.000000</td>\n",
              "      <td>3.000000</td>\n",
              "      <td>35.000000</td>\n",
              "      <td>1.000000</td>\n",
              "      <td>0.000000</td>\n",
              "      <td>31.000000</td>\n",
              "    </tr>\n",
              "    <tr>\n",
              "      <th>max</th>\n",
              "      <td>891.000000</td>\n",
              "      <td>1.000000</td>\n",
              "      <td>3.000000</td>\n",
              "      <td>80.000000</td>\n",
              "      <td>8.000000</td>\n",
              "      <td>6.000000</td>\n",
              "      <td>512.329200</td>\n",
              "    </tr>\n",
              "  </tbody>\n",
              "</table>\n",
              "</div>\n",
              "    <div class=\"colab-df-buttons\">\n",
              "\n",
              "  <div class=\"colab-df-container\">\n",
              "    <button class=\"colab-df-convert\" onclick=\"convertToInteractive('df-e2a0ce1b-670d-4f6e-baf5-a00785c10960')\"\n",
              "            title=\"Convert this dataframe to an interactive table.\"\n",
              "            style=\"display:none;\">\n",
              "\n",
              "  <svg xmlns=\"http://www.w3.org/2000/svg\" height=\"24px\" viewBox=\"0 -960 960 960\">\n",
              "    <path d=\"M120-120v-720h720v720H120Zm60-500h600v-160H180v160Zm220 220h160v-160H400v160Zm0 220h160v-160H400v160ZM180-400h160v-160H180v160Zm440 0h160v-160H620v160ZM180-180h160v-160H180v160Zm440 0h160v-160H620v160Z\"/>\n",
              "  </svg>\n",
              "    </button>\n",
              "\n",
              "  <style>\n",
              "    .colab-df-container {\n",
              "      display:flex;\n",
              "      gap: 12px;\n",
              "    }\n",
              "\n",
              "    .colab-df-convert {\n",
              "      background-color: #E8F0FE;\n",
              "      border: none;\n",
              "      border-radius: 50%;\n",
              "      cursor: pointer;\n",
              "      display: none;\n",
              "      fill: #1967D2;\n",
              "      height: 32px;\n",
              "      padding: 0 0 0 0;\n",
              "      width: 32px;\n",
              "    }\n",
              "\n",
              "    .colab-df-convert:hover {\n",
              "      background-color: #E2EBFA;\n",
              "      box-shadow: 0px 1px 2px rgba(60, 64, 67, 0.3), 0px 1px 3px 1px rgba(60, 64, 67, 0.15);\n",
              "      fill: #174EA6;\n",
              "    }\n",
              "\n",
              "    .colab-df-buttons div {\n",
              "      margin-bottom: 4px;\n",
              "    }\n",
              "\n",
              "    [theme=dark] .colab-df-convert {\n",
              "      background-color: #3B4455;\n",
              "      fill: #D2E3FC;\n",
              "    }\n",
              "\n",
              "    [theme=dark] .colab-df-convert:hover {\n",
              "      background-color: #434B5C;\n",
              "      box-shadow: 0px 1px 3px 1px rgba(0, 0, 0, 0.15);\n",
              "      filter: drop-shadow(0px 1px 2px rgba(0, 0, 0, 0.3));\n",
              "      fill: #FFFFFF;\n",
              "    }\n",
              "  </style>\n",
              "\n",
              "    <script>\n",
              "      const buttonEl =\n",
              "        document.querySelector('#df-e2a0ce1b-670d-4f6e-baf5-a00785c10960 button.colab-df-convert');\n",
              "      buttonEl.style.display =\n",
              "        google.colab.kernel.accessAllowed ? 'block' : 'none';\n",
              "\n",
              "      async function convertToInteractive(key) {\n",
              "        const element = document.querySelector('#df-e2a0ce1b-670d-4f6e-baf5-a00785c10960');\n",
              "        const dataTable =\n",
              "          await google.colab.kernel.invokeFunction('convertToInteractive',\n",
              "                                                    [key], {});\n",
              "        if (!dataTable) return;\n",
              "\n",
              "        const docLinkHtml = 'Like what you see? Visit the ' +\n",
              "          '<a target=\"_blank\" href=https://colab.research.google.com/notebooks/data_table.ipynb>data table notebook</a>'\n",
              "          + ' to learn more about interactive tables.';\n",
              "        element.innerHTML = '';\n",
              "        dataTable['output_type'] = 'display_data';\n",
              "        await google.colab.output.renderOutput(dataTable, element);\n",
              "        const docLink = document.createElement('div');\n",
              "        docLink.innerHTML = docLinkHtml;\n",
              "        element.appendChild(docLink);\n",
              "      }\n",
              "    </script>\n",
              "  </div>\n",
              "\n",
              "\n",
              "<div id=\"df-a16cf13a-dabc-4d47-9a08-4cfb23942460\">\n",
              "  <button class=\"colab-df-quickchart\" onclick=\"quickchart('df-a16cf13a-dabc-4d47-9a08-4cfb23942460')\"\n",
              "            title=\"Suggest charts\"\n",
              "            style=\"display:none;\">\n",
              "\n",
              "<svg xmlns=\"http://www.w3.org/2000/svg\" height=\"24px\"viewBox=\"0 0 24 24\"\n",
              "     width=\"24px\">\n",
              "    <g>\n",
              "        <path d=\"M19 3H5c-1.1 0-2 .9-2 2v14c0 1.1.9 2 2 2h14c1.1 0 2-.9 2-2V5c0-1.1-.9-2-2-2zM9 17H7v-7h2v7zm4 0h-2V7h2v10zm4 0h-2v-4h2v4z\"/>\n",
              "    </g>\n",
              "</svg>\n",
              "  </button>\n",
              "\n",
              "<style>\n",
              "  .colab-df-quickchart {\n",
              "      --bg-color: #E8F0FE;\n",
              "      --fill-color: #1967D2;\n",
              "      --hover-bg-color: #E2EBFA;\n",
              "      --hover-fill-color: #174EA6;\n",
              "      --disabled-fill-color: #AAA;\n",
              "      --disabled-bg-color: #DDD;\n",
              "  }\n",
              "\n",
              "  [theme=dark] .colab-df-quickchart {\n",
              "      --bg-color: #3B4455;\n",
              "      --fill-color: #D2E3FC;\n",
              "      --hover-bg-color: #434B5C;\n",
              "      --hover-fill-color: #FFFFFF;\n",
              "      --disabled-bg-color: #3B4455;\n",
              "      --disabled-fill-color: #666;\n",
              "  }\n",
              "\n",
              "  .colab-df-quickchart {\n",
              "    background-color: var(--bg-color);\n",
              "    border: none;\n",
              "    border-radius: 50%;\n",
              "    cursor: pointer;\n",
              "    display: none;\n",
              "    fill: var(--fill-color);\n",
              "    height: 32px;\n",
              "    padding: 0;\n",
              "    width: 32px;\n",
              "  }\n",
              "\n",
              "  .colab-df-quickchart:hover {\n",
              "    background-color: var(--hover-bg-color);\n",
              "    box-shadow: 0 1px 2px rgba(60, 64, 67, 0.3), 0 1px 3px 1px rgba(60, 64, 67, 0.15);\n",
              "    fill: var(--button-hover-fill-color);\n",
              "  }\n",
              "\n",
              "  .colab-df-quickchart-complete:disabled,\n",
              "  .colab-df-quickchart-complete:disabled:hover {\n",
              "    background-color: var(--disabled-bg-color);\n",
              "    fill: var(--disabled-fill-color);\n",
              "    box-shadow: none;\n",
              "  }\n",
              "\n",
              "  .colab-df-spinner {\n",
              "    border: 2px solid var(--fill-color);\n",
              "    border-color: transparent;\n",
              "    border-bottom-color: var(--fill-color);\n",
              "    animation:\n",
              "      spin 1s steps(1) infinite;\n",
              "  }\n",
              "\n",
              "  @keyframes spin {\n",
              "    0% {\n",
              "      border-color: transparent;\n",
              "      border-bottom-color: var(--fill-color);\n",
              "      border-left-color: var(--fill-color);\n",
              "    }\n",
              "    20% {\n",
              "      border-color: transparent;\n",
              "      border-left-color: var(--fill-color);\n",
              "      border-top-color: var(--fill-color);\n",
              "    }\n",
              "    30% {\n",
              "      border-color: transparent;\n",
              "      border-left-color: var(--fill-color);\n",
              "      border-top-color: var(--fill-color);\n",
              "      border-right-color: var(--fill-color);\n",
              "    }\n",
              "    40% {\n",
              "      border-color: transparent;\n",
              "      border-right-color: var(--fill-color);\n",
              "      border-top-color: var(--fill-color);\n",
              "    }\n",
              "    60% {\n",
              "      border-color: transparent;\n",
              "      border-right-color: var(--fill-color);\n",
              "    }\n",
              "    80% {\n",
              "      border-color: transparent;\n",
              "      border-right-color: var(--fill-color);\n",
              "      border-bottom-color: var(--fill-color);\n",
              "    }\n",
              "    90% {\n",
              "      border-color: transparent;\n",
              "      border-bottom-color: var(--fill-color);\n",
              "    }\n",
              "  }\n",
              "</style>\n",
              "\n",
              "  <script>\n",
              "    async function quickchart(key) {\n",
              "      const quickchartButtonEl =\n",
              "        document.querySelector('#' + key + ' button');\n",
              "      quickchartButtonEl.disabled = true;  // To prevent multiple clicks.\n",
              "      quickchartButtonEl.classList.add('colab-df-spinner');\n",
              "      try {\n",
              "        const charts = await google.colab.kernel.invokeFunction(\n",
              "            'suggestCharts', [key], {});\n",
              "      } catch (error) {\n",
              "        console.error('Error during call to suggestCharts:', error);\n",
              "      }\n",
              "      quickchartButtonEl.classList.remove('colab-df-spinner');\n",
              "      quickchartButtonEl.classList.add('colab-df-quickchart-complete');\n",
              "    }\n",
              "    (() => {\n",
              "      let quickchartButtonEl =\n",
              "        document.querySelector('#df-a16cf13a-dabc-4d47-9a08-4cfb23942460 button');\n",
              "      quickchartButtonEl.style.display =\n",
              "        google.colab.kernel.accessAllowed ? 'block' : 'none';\n",
              "    })();\n",
              "  </script>\n",
              "</div>\n",
              "\n",
              "    </div>\n",
              "  </div>\n"
            ],
            "application/vnd.google.colaboratory.intrinsic+json": {
              "type": "dataframe",
              "summary": "{\n  \"name\": \"titanic_data\",\n  \"rows\": 8,\n  \"fields\": [\n    {\n      \"column\": \"PassengerId\",\n      \"properties\": {\n        \"dtype\": \"number\",\n        \"std\": 320.8159711429855,\n        \"min\": 1.0,\n        \"max\": 891.0,\n        \"num_unique_values\": 6,\n        \"samples\": [\n          891.0,\n          446.0,\n          668.5\n        ],\n        \"semantic_type\": \"\",\n        \"description\": \"\"\n      }\n    },\n    {\n      \"column\": \"Survived\",\n      \"properties\": {\n        \"dtype\": \"number\",\n        \"std\": 314.8713661874558,\n        \"min\": 0.0,\n        \"max\": 891.0,\n        \"num_unique_values\": 5,\n        \"samples\": [\n          0.3838383838383838,\n          1.0,\n          0.4865924542648575\n        ],\n        \"semantic_type\": \"\",\n        \"description\": \"\"\n      }\n    },\n    {\n      \"column\": \"Pclass\",\n      \"properties\": {\n        \"dtype\": \"number\",\n        \"std\": 314.2523437079694,\n        \"min\": 0.836071240977049,\n        \"max\": 891.0,\n        \"num_unique_values\": 6,\n        \"samples\": [\n          891.0,\n          2.308641975308642,\n          3.0\n        ],\n        \"semantic_type\": \"\",\n        \"description\": \"\"\n      }\n    },\n    {\n      \"column\": \"Age\",\n      \"properties\": {\n        \"dtype\": \"number\",\n        \"std\": 305.2978992449289,\n        \"min\": 0.42,\n        \"max\": 891.0,\n        \"num_unique_values\": 7,\n        \"samples\": [\n          891.0,\n          29.69911764705882,\n          35.0\n        ],\n        \"semantic_type\": \"\",\n        \"description\": \"\"\n      }\n    },\n    {\n      \"column\": \"SibSp\",\n      \"properties\": {\n        \"dtype\": \"number\",\n        \"std\": 314.4908277465442,\n        \"min\": 0.0,\n        \"max\": 891.0,\n        \"num_unique_values\": 6,\n        \"samples\": [\n          891.0,\n          0.5230078563411896,\n          8.0\n        ],\n        \"semantic_type\": \"\",\n        \"description\": \"\"\n      }\n    },\n    {\n      \"column\": \"Parch\",\n      \"properties\": {\n        \"dtype\": \"number\",\n        \"std\": 314.65971717879,\n        \"min\": 0.0,\n        \"max\": 891.0,\n        \"num_unique_values\": 5,\n        \"samples\": [\n          0.38159371492704824,\n          6.0,\n          0.8060572211299483\n        ],\n        \"semantic_type\": \"\",\n        \"description\": \"\"\n      }\n    },\n    {\n      \"column\": \"Fare\",\n      \"properties\": {\n        \"dtype\": \"number\",\n        \"std\": 330.6256632228578,\n        \"min\": 0.0,\n        \"max\": 891.0,\n        \"num_unique_values\": 8,\n        \"samples\": [\n          32.204207968574636,\n          14.4542,\n          891.0\n        ],\n        \"semantic_type\": \"\",\n        \"description\": \"\"\n      }\n    }\n  ]\n}"
            }
          },
          "metadata": {},
          "execution_count": 27
        }
      ]
    },
    {
      "cell_type": "code",
      "source": [
        "titanic_data['Survived'].value_counts()"
      ],
      "metadata": {
        "colab": {
          "base_uri": "https://localhost:8080/"
        },
        "id": "GrHUnaULHRYg",
        "outputId": "97b3c884-43e4-4d27-f25c-61a7ae74953d"
      },
      "execution_count": 28,
      "outputs": [
        {
          "output_type": "execute_result",
          "data": {
            "text/plain": [
              "Survived\n",
              "0    549\n",
              "1    342\n",
              "Name: count, dtype: int64"
            ]
          },
          "metadata": {},
          "execution_count": 28
        }
      ]
    },
    {
      "cell_type": "markdown",
      "source": [
        "VISUALIZATION\n"
      ],
      "metadata": {
        "id": "pcDnfswmIT9G"
      }
    },
    {
      "cell_type": "code",
      "source": [
        "sns.set()"
      ],
      "metadata": {
        "id": "_jLGsuxwHRe2"
      },
      "execution_count": 31,
      "outputs": []
    },
    {
      "cell_type": "code",
      "source": [
        "sns.countplot(titanic_data['Survived'])"
      ],
      "metadata": {
        "colab": {
          "base_uri": "https://localhost:8080/",
          "height": 451
        },
        "id": "DHmvoGPZHRmR",
        "outputId": "ae3f5e60-9ec4-4a6c-e17b-a1827e18ac66"
      },
      "execution_count": 33,
      "outputs": [
        {
          "output_type": "execute_result",
          "data": {
            "text/plain": [
              "<Axes: ylabel='count'>"
            ]
          },
          "metadata": {},
          "execution_count": 33
        },
        {
          "output_type": "display_data",
          "data": {
            "text/plain": [
              "<Figure size 640x480 with 1 Axes>"
            ],
            "image/png": "[encoded data removed]"
          },
          "metadata": {}
        }
      ]
    },
    {
      "cell_type": "code",
      "source": [
        "titanic_data['Sex'].value_counts ()"
      ],
      "metadata": {
        "colab": {
          "base_uri": "https://localhost:8080/"
        },
        "id": "A8NTl0iVHRpp",
        "outputId": "a8267c4b-c5bd-4715-c475-1353db569088"
      },
      "execution_count": 35,
      "outputs": [
        {
          "output_type": "execute_result",
          "data": {
            "text/plain": [
              "Sex\n",
              "male      577\n",
              "female    314\n",
              "Name: count, dtype: int64"
            ]
          },
          "metadata": {},
          "execution_count": 35
        }
      ]
    },
    {
      "cell_type": "code",
      "source": [
        "sns.countplot(titanic_data['Sex'])"
      ],
      "metadata": {
        "colab": {
          "base_uri": "https://localhost:8080/",
          "height": 475
        },
        "id": "XHKyTo2gJS5l",
        "outputId": "b0ac7d0b-d101-4636-f357-43f53b535e82"
      },
      "execution_count": 36,
      "outputs": [
        {
          "output_type": "execute_result",
          "data": {
            "text/plain": [
              "<Axes: xlabel='count', ylabel='Sex'>"
            ]
          },
          "metadata": {},
          "execution_count": 36
        },
        {
          "output_type": "display_data",
          "data": {
            "text/plain": [
              "<Figure size 640x480 with 1 Axes>"
            ],
            "image/png": "[encoded data removed]"
          },
          "metadata": {}
        }
      ]
    },
    {
      "cell_type": "code",
      "source": [
        "sns.countplot(x='Sex',hue='Survived',data=titanic_data)"
      ],
      "metadata": {
        "colab": {
          "base_uri": "https://localhost:8080/",
          "height": 475
        },
        "id": "RVomG7NKJVdC",
        "outputId": "a64ad7f8-8e15-4006-e0e9-425abd619fcb"
      },
      "execution_count": 37,
      "outputs": [
        {
          "output_type": "execute_result",
          "data": {
            "text/plain": [
              "<Axes: xlabel='Sex', ylabel='count'>"
            ]
          },
          "metadata": {},
          "execution_count": 37
        },
        {
          "output_type": "display_data",
          "data": {
            "text/plain": [
              "<Figure size 640x480 with 1 Axes>"
            ],
            "image/png": "[encoded data removed]"
          },
          "metadata": {}
        }
      ]
    },
    {
      "cell_type": "code",
      "source": [
        "sns.countplot(x='Pclass',hue='Survived',data=titanic_data)"
      ],
      "metadata": {
        "colab": {
          "base_uri": "https://localhost:8080/",
          "height": 475
        },
        "id": "Znu_CTjtJ5Gc",
        "outputId": "5c7943a9-53b1-41dd-fbf0-79009273b1af"
      },
      "execution_count": 40,
      "outputs": [
        {
          "output_type": "execute_result",
          "data": {
            "text/plain": [
              "<Axes: xlabel='Pclass', ylabel='count'>"
            ]
          },
          "metadata": {},
          "execution_count": 40
        },
        {
          "output_type": "display_data",
          "data": {
            "text/plain": [
              "<Figure size 640x480 with 1 Axes>"
            ],
            "image/png": "[encoded data removed]"
          },
          "metadata": {}
        }
      ]
    },
    {
      "cell_type": "code",
      "source": [],
      "metadata": {
        "id": "1yxupng1J6Bp"
      },
      "execution_count": 41,
      "outputs": []
    },
    {
      "cell_type": "markdown",
      "source": [
        "Encoding for categorical data"
      ],
      "metadata": {
        "id": "5cDh9SfrK5ym"
      }
    },
    {
      "cell_type": "code",
      "source": [
        "titanic_data['Sex'].value_counts()"
      ],
      "metadata": {
        "colab": {
          "base_uri": "https://localhost:8080/"
        },
        "id": "-PC0hWINJ6Ml",
        "outputId": "ec314046-27f7-44b5-f917-eea1fd805942"
      },
      "execution_count": 42,
      "outputs": [
        {
          "output_type": "execute_result",
          "data": {
            "text/plain": [
              "Sex\n",
              "male      577\n",
              "female    314\n",
              "Name: count, dtype: int64"
            ]
          },
          "metadata": {},
          "execution_count": 42
        }
      ]
    },
    {
      "cell_type": "code",
      "source": [
        "titanic_data['Embarked'].value_counts()"
      ],
      "metadata": {
        "colab": {
          "base_uri": "https://localhost:8080/"
        },
        "id": "EBNqCItZJ6Rz",
        "outputId": "30bbc871-cd19-43bb-f4a4-6efe4380524c"
      },
      "execution_count": 43,
      "outputs": [
        {
          "output_type": "execute_result",
          "data": {
            "text/plain": [
              "Embarked\n",
              "S    646\n",
              "C    168\n",
              "Q     77\n",
              "Name: count, dtype: int64"
            ]
          },
          "metadata": {},
          "execution_count": 43
        }
      ]
    },
    {
      "cell_type": "code",
      "source": [
        "titanic_data.replace({'Sex':{'male':0,'female':1},'Embarked':{'S':0,'C':1,'Q':2}},inplace=True)"
      ],
      "metadata": {
        "id": "ru5anOc5J6Uh"
      },
      "execution_count": 44,
      "outputs": []
    },
    {
      "cell_type": "code",
      "source": [
        "\n",
        "X = titanic_data.drop(columns=['PassengerId','Name','Ticket','Survived'],axis=1)\n",
        "Y = titanic_data['Survived']"
      ],
      "metadata": {
        "id": "bWkOm8bTJ6X2"
      },
      "execution_count": 48,
      "outputs": []
    },
    {
      "cell_type": "code",
      "source": [
        "print(X)"
      ],
      "metadata": {
        "colab": {
          "base_uri": "https://localhost:8080/"
        },
        "id": "b1bs5jifJ6fN",
        "outputId": "eb675cca-22fb-4a94-89cf-f3e4b85613c2"
      },
      "execution_count": 49,
      "outputs": [
        {
          "output_type": "stream",
          "name": "stdout",
          "text": [
            "     Pclass  Sex        Age  SibSp  Parch     Fare  Embarked\n",
            "0         3    0  22.000000      1      0   7.2500         0\n",
            "1         1    1  38.000000      1      0  71.2833         1\n",
            "2         3    1  26.000000      0      0   7.9250         0\n",
            "3         1    1  35.000000      1      0  53.1000         0\n",
            "4         3    0  35.000000      0      0   8.0500         0\n",
            "..      ...  ...        ...    ...    ...      ...       ...\n",
            "886       2    0  27.000000      0      0  13.0000         0\n",
            "887       1    1  19.000000      0      0  30.0000         0\n",
            "888       3    1  29.699118      1      2  23.4500         0\n",
            "889       1    0  26.000000      0      0  30.0000         1\n",
            "890       3    0  32.000000      0      0   7.7500         2\n",
            "\n",
            "[891 rows x 7 columns]\n"
          ]
        }
      ]
    },
    {
      "cell_type": "markdown",
      "source": [
        "Split Data"
      ],
      "metadata": {
        "id": "c6r5_NXtMYYi"
      }
    },
    {
      "cell_type": "code",
      "source": [
        "X_train,X_test,Y_train,Y_test = train_test_split(X,Y,test_size=0.2,random_state=2)"
      ],
      "metadata": {
        "id": "JdG9qVs4J6ho"
      },
      "execution_count": 51,
      "outputs": []
    },
    {
      "cell_type": "markdown",
      "source": [
        "Logistic Regression used as it have binary model"
      ],
      "metadata": {
        "id": "VJ8mpeVhM9hW"
      }
    },
    {
      "cell_type": "code",
      "source": [
        "\n",
        "LR = LogisticRegression()"
      ],
      "metadata": {
        "id": "npD8tZ38J6lM"
      },
      "execution_count": 52,
      "outputs": []
    },
    {
      "cell_type": "code",
      "source": [
        "LR.fit(X_train, Y_train)"
      ],
      "metadata": {
        "colab": {
          "base_uri": "https://localhost:8080/",
          "height": 51
        },
        "id": "XMGzQMR5NOVp",
        "outputId": "e163d81c-f842-4f45-fa9a-4f852d496104"
      },
      "execution_count": 53,
      "outputs": [
        {
          "output_type": "execute_result",
          "data": {
            "text/plain": [
              "LogisticRegression()"
            ],
            "text/html": [
              "<style>#sk-container-id-1 {color: black;background-color: white;}#sk-container-id-1 pre{padding: 0;}#sk-container-id-1 div.sk-toggleable {background-color: white;}#sk-container-id-1 label.sk-toggleable__label {cursor: pointer;display: block;width: 100%;margin-bottom: 0;padding: 0.3em;box-sizing: border-box;text-align: center;}#sk-container-id-1 label.sk-toggleable__label-arrow:before {content: \"▸\";float: left;margin-right: 0.25em;color: #696969;}#sk-container-id-1 label.sk-toggleable__label-arrow:hover:before {color: black;}#sk-container-id-1 div.sk-estimator:hover label.sk-toggleable__label-arrow:before {color: black;}#sk-container-id-1 div.sk-toggleable__content {max-height: 0;max-width: 0;overflow: hidden;text-align: left;background-color: #f0f8ff;}#sk-container-id-1 div.sk-toggleable__content pre {margin: 0.2em;color: black;border-radius: 0.25em;background-color: #f0f8ff;}#sk-container-id-1 input.sk-toggleable__control:checked~div.sk-toggleable__content {max-height: 200px;max-width: 100%;overflow: auto;}#sk-container-id-1 input.sk-toggleable__control:checked~label.sk-toggleable__label-arrow:before {content: \"▾\";}#sk-container-id-1 div.sk-estimator input.sk-toggleable__control:checked~label.sk-toggleable__label {background-color: #d4ebff;}#sk-container-id-1 div.sk-label input.sk-toggleable__control:checked~label.sk-toggleable__label {background-color: #d4ebff;}#sk-container-id-1 input.sk-hidden--visually {border: 0;clip: rect(1px 1px 1px 1px);clip: rect(1px, 1px, 1px, 1px);height: 1px;margin: -1px;overflow: hidden;padding: 0;position: absolute;width: 1px;}#sk-container-id-1 div.sk-estimator {font-family: monospace;background-color: #f0f8ff;border: 1px dotted black;border-radius: 0.25em;box-sizing: border-box;margin-bottom: 0.5em;}#sk-container-id-1 div.sk-estimator:hover {background-color: #d4ebff;}#sk-container-id-1 div.sk-parallel-item::after {content: \"\";width: 100%;border-bottom: 1px solid gray;flex-grow: 1;}#sk-container-id-1 div.sk-label:hover label.sk-toggleable__label {background-color: #d4ebff;}#sk-container-id-1 div.sk-serial::before {content: \"\";position: absolute;border-left: 1px solid gray;box-sizing: border-box;top: 0;bottom: 0;left: 50%;z-index: 0;}#sk-container-id-1 div.sk-serial {display: flex;flex-direction: column;align-items: center;background-color: white;padding-right: 0.2em;padding-left: 0.2em;position: relative;}#sk-container-id-1 div.sk-item {position: relative;z-index: 1;}#sk-container-id-1 div.sk-parallel {display: flex;align-items: stretch;justify-content: center;background-color: white;position: relative;}#sk-container-id-1 div.sk-item::before, #sk-container-id-1 div.sk-parallel-item::before {content: \"\";position: absolute;border-left: 1px solid gray;box-sizing: border-box;top: 0;bottom: 0;left: 50%;z-index: -1;}#sk-container-id-1 div.sk-parallel-item {display: flex;flex-direction: column;z-index: 1;position: relative;background-color: white;}#sk-container-id-1 div.sk-parallel-item:first-child::after {align-self: flex-end;width: 50%;}#sk-container-id-1 div.sk-parallel-item:last-child::after {align-self: flex-start;width: 50%;}#sk-container-id-1 div.sk-parallel-item:only-child::after {width: 0;}#sk-container-id-1 div.sk-dashed-wrapped {border: 1px dashed gray;margin: 0 0.4em 0.5em 0.4em;box-sizing: border-box;padding-bottom: 0.4em;background-color: white;}#sk-container-id-1 div.sk-label label {font-family: monospace;font-weight: bold;display: inline-block;line-height: 1.2em;}#sk-container-id-1 div.sk-label-container {text-align: center;}#sk-container-id-1 div.sk-container {/* jupyter's `normalize.less` sets `[hidden] { display: none; }` but bootstrap.min.css set `[hidden] { display: none !important; }` so we also need the `!important` here to be able to override the default hidden behavior on the sphinx rendered scikit-learn.org. See: https://github.com/scikit-learn/scikit-learn/issues/21755 */display: inline-block !important;position: relative;}#sk-container-id-1 div.sk-text-repr-fallback {display: none;}</style><div id=\"sk-container-id-1\" class=\"sk-top-container\"><div class=\"sk-text-repr-fallback\"><pre>LogisticRegression()</pre><b>In a Jupyter environment, please rerun this cell to show the HTML representation or trust the notebook. <br />On GitHub, the HTML representation is unable to render, please try loading this page with nbviewer.org.</b></div><div class=\"sk-container\" hidden><div class=\"sk-item\"><div class=\"sk-estimator sk-toggleable\"><input class=\"sk-toggleable__control sk-hidden--visually\" id=\"sk-estimator-id-1\" type=\"checkbox\" checked><label for=\"sk-estimator-id-1\" class=\"sk-toggleable__label sk-toggleable__label-arrow\">LogisticRegression</label><div class=\"sk-toggleable__content\"><pre>LogisticRegression()</pre></div></div></div></div></div>"
            ]
          },
          "metadata": {},
          "execution_count": 53
        }
      ]
    },
    {
      "cell_type": "code",
      "source": [
        "X_train_prediction = LR.predict(X_train)"
      ],
      "metadata": {
        "id": "L4E38If1NOY6"
      },
      "execution_count": 54,
      "outputs": []
    },
    {
      "cell_type": "code",
      "source": [
        "X_train_prediction"
      ],
      "metadata": {
        "colab": {
          "base_uri": "https://localhost:8080/"
        },
        "id": "enhZFuvhNObg",
        "outputId": "f0b1036e-a9c9-416b-b8f2-c1f6bd8dc85c"
      },
      "execution_count": 55,
      "outputs": [
        {
          "output_type": "execute_result",
          "data": {
            "text/plain": [
              "array([0, 1, 0, 0, 0, 0, 0, 1, 0, 0, 0, 1, 0, 0, 1, 0, 1, 0, 0, 0, 0, 0,\n",
              "       1, 0, 0, 1, 0, 0, 1, 0, 1, 1, 0, 0, 1, 0, 1, 0, 0, 0, 0, 0, 0, 1,\n",
              "       1, 0, 0, 1, 0, 1, 0, 1, 0, 0, 0, 0, 0, 0, 1, 0, 1, 0, 0, 1, 1, 0,\n",
              "       0, 1, 1, 0, 1, 0, 0, 1, 0, 0, 0, 0, 0, 0, 1, 0, 0, 0, 1, 0, 0, 0,\n",
              "       1, 0, 1, 0, 0, 1, 0, 0, 0, 1, 1, 1, 0, 1, 0, 0, 0, 0, 0, 1, 0, 0,\n",
              "       0, 1, 1, 0, 0, 1, 0, 0, 1, 0, 0, 1, 0, 0, 1, 0, 1, 0, 1, 0, 1, 0,\n",
              "       1, 1, 1, 1, 1, 1, 0, 0, 1, 1, 1, 0, 0, 1, 0, 0, 0, 0, 0, 0, 1, 0,\n",
              "       1, 0, 0, 0, 0, 0, 0, 0, 0, 1, 0, 0, 0, 0, 0, 0, 0, 0, 0, 0, 1, 1,\n",
              "       0, 0, 1, 0, 1, 0, 1, 1, 1, 0, 0, 0, 1, 0, 0, 0, 1, 0, 0, 1, 0, 0,\n",
              "       0, 1, 1, 0, 1, 0, 0, 0, 0, 0, 1, 1, 0, 1, 1, 1, 1, 0, 0, 0, 0, 0,\n",
              "       0, 0, 0, 1, 0, 0, 1, 1, 1, 0, 0, 1, 0, 1, 1, 1, 0, 0, 1, 0, 0, 0,\n",
              "       0, 1, 0, 0, 0, 1, 0, 0, 0, 1, 0, 1, 0, 1, 0, 0, 0, 0, 0, 0, 0, 0,\n",
              "       0, 1, 0, 1, 0, 0, 1, 0, 0, 1, 0, 1, 0, 1, 1, 0, 0, 0, 0, 1, 0, 1,\n",
              "       0, 0, 1, 0, 0, 0, 1, 0, 0, 0, 0, 1, 1, 0, 0, 0, 0, 0, 0, 1, 0, 1,\n",
              "       0, 0, 0, 0, 0, 1, 1, 1, 0, 0, 0, 1, 0, 1, 0, 0, 0, 0, 0, 0, 1, 1,\n",
              "       0, 1, 1, 0, 1, 1, 1, 0, 0, 0, 0, 0, 0, 0, 0, 0, 1, 0, 0, 1, 1, 1,\n",
              "       0, 1, 0, 0, 0, 0, 1, 1, 0, 0, 0, 1, 0, 1, 1, 1, 0, 0, 0, 0, 1, 0,\n",
              "       0, 0, 1, 1, 0, 0, 1, 0, 0, 0, 0, 1, 0, 0, 0, 0, 0, 1, 0, 0, 0, 0,\n",
              "       1, 0, 1, 1, 1, 0, 1, 1, 0, 0, 0, 0, 1, 0, 1, 0, 0, 1, 1, 0, 0, 0,\n",
              "       0, 1, 0, 0, 0, 0, 1, 1, 0, 1, 0, 1, 0, 0, 0, 0, 0, 1, 0, 0, 0, 0,\n",
              "       1, 1, 0, 0, 1, 0, 1, 0, 0, 1, 0, 0, 0, 0, 0, 0, 0, 0, 1, 0, 0, 1,\n",
              "       1, 0, 0, 0, 1, 1, 0, 1, 0, 0, 1, 0, 0, 0, 1, 1, 0, 1, 0, 0, 0, 0,\n",
              "       0, 1, 0, 0, 1, 0, 1, 1, 0, 0, 1, 0, 0, 1, 0, 0, 0, 1, 0, 1, 1, 0,\n",
              "       0, 1, 1, 0, 1, 0, 1, 1, 1, 0, 1, 0, 0, 1, 0, 0, 1, 0, 0, 1, 0, 0,\n",
              "       0, 0, 1, 1, 0, 0, 1, 0, 1, 0, 0, 0, 0, 0, 0, 1, 1, 1, 0, 0, 1, 1,\n",
              "       0, 0, 0, 0, 0, 0, 0, 0, 0, 0, 0, 0, 0, 0, 0, 0, 0, 1, 0, 0, 0, 1,\n",
              "       1, 0, 0, 0, 0, 0, 0, 0, 0, 0, 0, 0, 0, 1, 0, 1, 0, 0, 0, 0, 0, 0,\n",
              "       1, 0, 0, 0, 0, 0, 1, 0, 1, 0, 1, 0, 0, 0, 1, 0, 1, 1, 1, 0, 0, 0,\n",
              "       1, 0, 1, 0, 0, 0, 1, 1, 1, 0, 0, 1, 1, 0, 0, 0, 1, 0, 1, 0, 0, 0,\n",
              "       0, 0, 1, 1, 0, 1, 1, 1, 0, 0, 0, 1, 0, 0, 0, 0, 1, 0, 0, 0, 1, 0,\n",
              "       0, 1, 0, 0, 0, 0, 1, 0, 0, 1, 0, 1, 0, 0, 0, 1, 1, 1, 1, 1, 0, 0,\n",
              "       1, 1, 0, 1, 1, 1, 1, 0, 0, 0, 1, 1, 0, 0, 1, 0, 0, 0, 0, 0, 0, 0,\n",
              "       0, 0, 1, 1, 0, 0, 1, 0])"
            ]
          },
          "metadata": {},
          "execution_count": 55
        }
      ]
    },
    {
      "cell_type": "code",
      "source": [
        "training_data_accuracy = accuracy_score(Y_train, X_train_prediction)\n",
        "training_data_accuracy"
      ],
      "metadata": {
        "colab": {
          "base_uri": "https://localhost:8080/"
        },
        "id": "_lLteG2uNOfE",
        "outputId": "ecdae8a4-910a-456a-a0aa-f7f8116a5782"
      },
      "execution_count": 57,
      "outputs": [
        {
          "output_type": "execute_result",
          "data": {
            "text/plain": [
              "0.8075842696629213"
            ]
          },
          "metadata": {},
          "execution_count": 57
        }
      ]
    },
    {
      "cell_type": "code",
      "source": [
        "X_test_prediction = LR.predict(X_test)\n",
        "X_test_prediction"
      ],
      "metadata": {
        "colab": {
          "base_uri": "https://localhost:8080/"
        },
        "id": "frAc88_eRZJH",
        "outputId": "9f0751b4-30d5-4b34-a677-044371913f40"
      },
      "execution_count": 59,
      "outputs": [
        {
          "output_type": "execute_result",
          "data": {
            "text/plain": [
              "array([0, 0, 1, 0, 0, 0, 0, 0, 0, 0, 0, 1, 1, 0, 0, 1, 0, 0, 1, 0, 1, 1,\n",
              "       0, 1, 0, 1, 1, 0, 0, 0, 0, 0, 0, 0, 0, 1, 1, 0, 0, 0, 0, 0, 1, 0,\n",
              "       0, 1, 1, 0, 0, 1, 0, 0, 0, 0, 0, 0, 1, 0, 0, 0, 1, 0, 0, 0, 1, 0,\n",
              "       1, 0, 0, 0, 1, 0, 1, 0, 1, 0, 0, 0, 1, 0, 1, 0, 0, 0, 1, 1, 0, 0,\n",
              "       1, 0, 0, 0, 0, 0, 0, 1, 0, 1, 0, 0, 1, 0, 1, 1, 0, 1, 1, 0, 0, 0,\n",
              "       0, 0, 0, 0, 1, 1, 0, 1, 0, 0, 1, 0, 0, 0, 0, 0, 0, 1, 0, 0, 0, 0,\n",
              "       1, 1, 0, 0, 0, 0, 0, 0, 1, 1, 1, 1, 0, 1, 0, 0, 0, 1, 0, 0, 0, 0,\n",
              "       1, 0, 0, 1, 1, 0, 1, 0, 0, 0, 1, 1, 0, 0, 1, 0, 0, 1, 1, 1, 0, 0,\n",
              "       0, 0, 0])"
            ]
          },
          "metadata": {},
          "execution_count": 59
        }
      ]
    },
    {
      "cell_type": "code",
      "source": [
        "X_test_accuracy = accuracy_score(Y_test, X_test_prediction)\n",
        "X_test_accuracy"
      ],
      "metadata": {
        "colab": {
          "base_uri": "https://localhost:8080/"
        },
        "id": "0LHBGDR8Rvx3",
        "outputId": "29b97479-623a-4d35-880b-785ac6e10847"
      },
      "execution_count": 60,
      "outputs": [
        {
          "output_type": "execute_result",
          "data": {
            "text/plain": [
              "0.7821229050279329"
            ]
          },
          "metadata": {},
          "execution_count": 60
        }
      ]
    },
    {
      "cell_type": "markdown",
      "source": [
        "End to End Model"
      ],
      "metadata": {
        "id": "l3-DqKFqSCl0"
      }
    },
    {
      "cell_type": "code",
      "source": [
        "import joblib\n",
        "joblib.dump(LR,'titanic_model.pkl')"
      ],
      "metadata": {
        "colab": {
          "base_uri": "https://localhost:8080/"
        },
        "id": "1I5sdwYJSBjY",
        "outputId": "40681f57-d637-4d01-f17f-5397869de895"
      },
      "execution_count": 62,
      "outputs": [
        {
          "output_type": "execute_result",
          "data": {
            "text/plain": [
              "['titanic_model.pkl']"
            ]
          },
          "metadata": {},
          "execution_count": 62
        }
      ]
    },
    {
      "cell_type": "code",
      "source": [
        "!pip install pyngrok"
      ],
      "metadata": {
        "colab": {
          "base_uri": "https://localhost:8080/"
        },
        "id": "3v_z1iYfSBms",
        "outputId": "32154a31-b58e-42d1-9c86-df520d6afe78"
      },
      "execution_count": 63,
      "outputs": [
        {
          "output_type": "stream",
          "name": "stdout",
          "text": [
            "Collecting pyngrok\n",
            "  Downloading pyngrok-7.1.6-py3-none-any.whl (22 kB)\n",
            "Requirement already satisfied: PyYAML>=5.1 in /usr/local/lib/python3.10/dist-packages (from pyngrok) (6.0.1)\n",
            "Installing collected packages: pyngrok\n",
            "Successfully installed pyngrok-7.1.6\n"
          ]
        }
      ]
    },
    {
      "cell_type": "code",
      "source": [
        "import subprocess\n",
        "import pyngrok\n",
        "from pyngrok import ngrok\n",
        "import os"
      ],
      "metadata": {
        "id": "7Z-cNXgDSBu6"
      },
      "execution_count": 64,
      "outputs": []
    },
    {
      "cell_type": "code",
      "source": [
        "ngrok.set_auth_token('2i8nNSWfVnogrKx5gz9fDIiJlfK_7qHS7DddNeW9JfDVQCUrg')"
      ],
      "metadata": {
        "id": "mBwRD6WSTfsP"
      },
      "execution_count": 68,
      "outputs": []
    },
    {
      "cell_type": "code",
      "source": [
        "os.system('nohup python -m flask run --no-reload &')\n",
        "proc = subprocess.Popen([\"ngrok\", \"http\", \"5000\"])\n",
        "\n",
        "public_url = ngrok.connect(addr=\"5000\", proto=\"http\")\n",
        "print(\"Public URL:\", public_url)"
      ],
      "metadata": {
        "colab": {
          "base_uri": "https://localhost:8080/"
        },
        "id": "XgvJdXtlTqN8",
        "outputId": "354b5bd1-c336-4828-d517-ad683a928f95"
      },
      "execution_count": 69,
      "outputs": [
        {
          "output_type": "stream",
          "name": "stdout",
          "text": [
            "Public URL: NgrokTunnel: \"https://b6d6-34-74-65-39.ngrok-free.app\" -> \"http://localhost:5000\"\n"
          ]
        }
      ]
    },
    {
      "cell_type": "code",
      "source": [
        "from flask import Flask, request, jsonify\n",
        "import joblib\n",
        "from pyngrok import ngrok\n",
        "from IPython.display import display, HTML\n",
        "\n",
        "model = joblib.load('titanic_model.pkl')\n",
        "\n",
        "app = Flask(__name__)\n",
        "\n",
        "@app.route('/')\n",
        "def home():\n",
        "    html_form = \"\"\"\n",
        "    <!DOCTYPE html>\n",
        "<html lang=\"en\">\n",
        "<head>\n",
        "    <meta charset=\"UTF-8\">\n",
        "    <meta name=\"viewport\" content=\"width=device-width, initial-scale=1.0\">\n",
        "    <title>Titanic Survival Prediction</title>\n",
        "    <style>\n",
        "        body {\n",
        "            background-color: #8DB4D2;\n",
        "            color: white;\n",
        "            font-family: Arial, sans-serif;\n",
        "            text-align: center;\n",
        "            padding: 20px;\n",
        "        }\n",
        "        #predictionForm {\n",
        "            display: inline-block;\n",
        "            text-align: left;\n",
        "        }\n",
        "        img {\n",
        "            max-width: 100%;\n",
        "            height: auto;\n",
        "        }\n",
        "    </style>\n",
        "</head>\n",
        "<body>\n",
        "    <h2>Titanic Survival Prediction</h2>\n",
        "    <form id=\"predictionForm\" method=\"post\" action=\"/predict\">\n",
        "        <label for=\"pclass\">Pclass:</label>\n",
        "        <input type=\"text\" id=\"pclass\" name=\"pclass\"><br><br>\n",
        "\n",
        "        <label for=\"sex\">Sex (Male=0, Female=1):</label>\n",
        "        <input type=\"text\" id=\"sex\" name=\"sex\"><br><br>\n",
        "\n",
        "        <label for=\"age\">Age:</label>\n",
        "        <input type=\"text\" id=\"age\" name=\"age\"><br><br>\n",
        "\n",
        "        <label for=\"sibsp\">SibSp:</label>\n",
        "        <input type=\"text\" id=\"sibsp\" name=\"sibsp\"><br><br>\n",
        "\n",
        "        <label for=\"parch\">Parch:</label>\n",
        "        <input type=\"text\" id=\"parch\" name=\"parch\"><br><br>\n",
        "\n",
        "        <label for=\"fare\">Fare:</label>\n",
        "        <input type=\"text\" id=\"fare\" name=\"fare\"><br><br>\n",
        "\n",
        "        <label for=\"embarked\">Embarked (S=0, C=1, Q=2):</label>\n",
        "        <input type=\"text\" id=\"embarked\" name=\"embarked\"><br><br>\n",
        "\n",
        "        <button type=\"button\" onclick=\"predictSurvival()\">Predict</button>\n",
        "    </form>\n",
        "\n",
        "    <p id=\"predictionResult\"></p>\n",
        "\n",
        "    <img src=\"data:image/jpeg;base64,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\" alt=\"Titanic Image\">\n",
        "\n",
        "    <script>\n",
        "        function predictSurvival() {\n",
        "            var xhr = new XMLHttpRequest();\n",
        "            var url = \"/predict\";\n",
        "            var data = new FormData(document.getElementById(\"predictionForm\")); // Changed to FormData\n",
        "\n",
        "            xhr.open(\"POST\", url, true);\n",
        "            xhr.onreadystatechange = function () {\n",
        "                if (xhr.readyState === 4 && xhr.status === 200) {\n",
        "                    var response = JSON.parse(xhr.responseText);\n",
        "                    document.getElementById(\"predictionResult\").innerHTML = \"Survival Prediction: \" + response.prediction;\n",
        "                }\n",
        "            };\n",
        "            xhr.send(data);\n",
        "        }\n",
        "    </script>\n",
        "</body>\n",
        "</html>\n",
        "\n",
        "    \"\"\"\n",
        "    return html_form\n",
        "\n",
        "@app.route('/predict', methods=['POST'])\n",
        "def predict():\n",
        "\n",
        "    pclass = request.form['pclass']\n",
        "    sex = request.form['sex']\n",
        "    age = request.form['age']\n",
        "    sibsp = request.form['sibsp']\n",
        "    parch = request.form['parch']\n",
        "    fare = request.form['fare']\n",
        "    embarked = request.form['embarked']\n",
        "\n",
        "    pclass = int(pclass)\n",
        "    sex = int(sex)\n",
        "    age = float(age)\n",
        "    sibsp = int(sibsp)\n",
        "    parch = int(parch)\n",
        "    fare = float(fare)\n",
        "    embarked = int(embarked)\n",
        "\n",
        "    features = [[pclass, sex, age, sibsp, parch, fare, embarked]]\n",
        "    prediction = model.predict(features)[0]\n",
        "\n",
        "    return jsonify({'prediction': int(prediction)})\n",
        "\n",
        "def run_flask_app():\n",
        "    app.run(host='127.0.0.1', port=5000, debug=True, use_reloader=False)\n",
        "\n",
        "\n",
        "public_url = ngrok.connect(addr=\"5000\", proto=\"http\")\n",
        "print(\"Public URL:\", public_url)\n",
        "\n",
        "\n",
        "display(HTML(f\"<h2>Open this link in your browser to access the application:</h2><p>{public_url}</p>\"))\n",
        "\n",
        "try:\n",
        "    run_flask_app()\n",
        "except KeyboardInterrupt:\n",
        "    ngrok.kill()\n"
      ],
      "metadata": {
        "colab": {
          "base_uri": "https://localhost:8080/",
          "height": 298
        },
        "id": "I8C0-W7PV493",
        "outputId": "05e72f7c-8066-43ac-fd67-0012ae5dcca3"
      },
      "execution_count": null,
      "outputs": [
        {
          "output_type": "stream",
          "name": "stdout",
          "text": [
            "Public URL: NgrokTunnel: \"https://4db5-34-74-65-39.ngrok-free.app\" -> \"http://localhost:5000\"\n"
          ]
        },
        {
          "output_type": "display_data",
          "data": {
            "text/plain": [
              "<IPython.core.display.HTML object>"
            ],
            "text/html": [
              "<h2>Open this link in your browser to access the application:</h2><p>NgrokTunnel: \"https://4db5-34-74-65-39.ngrok-free.app\" -> \"http://localhost:5000\"</p>"
            ]
          },
          "metadata": {}
        },
        {
          "output_type": "stream",
          "name": "stdout",
          "text": [
            " * Serving Flask app '__main__'\n",
            " * Debug mode: on\n"
          ]
        },
        {
          "output_type": "stream",
          "name": "stderr",
          "text": [
            "INFO:werkzeug:\u001b[31m\u001b[1mWARNING: This is a development server. Do not use it in a production deployment. Use a production WSGI server instead.\u001b[0m\n",
            " * Running on http://127.0.0.1:5000\n",
            "INFO:werkzeug:\u001b[33mPress CTRL+C to quit\u001b[0m\n",
            "INFO:werkzeug:127.0.0.1 - - [20/Jun/2024 11:31:48] \"GET / HTTP/1.1\" 200 -\n",
            "INFO:werkzeug:127.0.0.1 - - [20/Jun/2024 11:31:48] \"\u001b[33mGET /favicon.ico HTTP/1.1\u001b[0m\" 404 -\n",
            "INFO:werkzeug:127.0.0.1 - - [20/Jun/2024 11:34:56] \"POST /predict HTTP/1.1\" 200 -\n",
            "INFO:werkzeug:127.0.0.1 - - [20/Jun/2024 11:35:00] \"POST /predict HTTP/1.1\" 200 -\n",
            "INFO:werkzeug:127.0.0.1 - - [20/Jun/2024 11:35:03] \"POST /predict HTTP/1.1\" 200 -\n",
            "INFO:werkzeug:127.0.0.1 - - [20/Jun/2024 11:35:09] \"POST /predict HTTP/1.1\" 200 -\n"
          ]
        }
      ]
    }
  ]
}